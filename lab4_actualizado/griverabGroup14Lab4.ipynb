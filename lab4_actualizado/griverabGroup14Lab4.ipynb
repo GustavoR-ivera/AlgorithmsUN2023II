{
  "cells": [
    {
      "cell_type": "markdown",
      "source": [
        "[![Open In Colab](https://colab.research.google.com/assets/colab-badge.svg)](https://colab.research.google.com/drive/1bv9Di1PmgvNHiL8Ue2LWTjekvfYXEQ8k?usp=sharing)"
      ],
      "metadata": {
        "id": "A4X8DiQD6Ntj"
      }
    },
    {
      "cell_type": "code",
      "execution_count": 1,
      "metadata": {
        "id": "im-VVd1__7VU",
        "colab": {
          "base_uri": "https://localhost:8080/"
        },
        "outputId": "5e2b847e-b881-49bc-938d-776dd5237a57"
      },
      "outputs": [
        {
          "output_type": "stream",
          "name": "stdout",
          "text": [
            "processor\t: 0\n",
            "vendor_id\t: GenuineIntel\n",
            "cpu family\t: 6\n",
            "model\t\t: 79\n",
            "model name\t: Intel(R) Xeon(R) CPU @ 2.20GHz\n",
            "stepping\t: 0\n",
            "microcode\t: 0xffffffff\n",
            "cpu MHz\t\t: 2200.144\n",
            "cache size\t: 56320 KB\n",
            "physical id\t: 0\n",
            "siblings\t: 2\n",
            "core id\t\t: 0\n",
            "cpu cores\t: 1\n",
            "apicid\t\t: 0\n",
            "initial apicid\t: 0\n",
            "fpu\t\t: yes\n",
            "fpu_exception\t: yes\n",
            "cpuid level\t: 13\n",
            "wp\t\t: yes\n",
            "flags\t\t: fpu vme de pse tsc msr pae mce cx8 apic sep mtrr pge mca cmov pat pse36 clflush mmx fxsr sse sse2 ss ht syscall nx pdpe1gb rdtscp lm constant_tsc rep_good nopl xtopology nonstop_tsc cpuid tsc_known_freq pni pclmulqdq ssse3 fma cx16 pcid sse4_1 sse4_2 x2apic movbe popcnt aes xsave avx f16c rdrand hypervisor lahf_lm abm 3dnowprefetch invpcid_single ssbd ibrs ibpb stibp fsgsbase tsc_adjust bmi1 hle avx2 smep bmi2 erms invpcid rtm rdseed adx smap xsaveopt arat md_clear arch_capabilities\n",
            "bugs\t\t: cpu_meltdown spectre_v1 spectre_v2 spec_store_bypass l1tf mds swapgs taa mmio_stale_data retbleed\n",
            "bogomips\t: 4400.28\n",
            "clflush size\t: 64\n",
            "cache_alignment\t: 64\n",
            "address sizes\t: 46 bits physical, 48 bits virtual\n",
            "power management:\n",
            "\n",
            "processor\t: 1\n",
            "vendor_id\t: GenuineIntel\n",
            "cpu family\t: 6\n",
            "model\t\t: 79\n",
            "model name\t: Intel(R) Xeon(R) CPU @ 2.20GHz\n",
            "stepping\t: 0\n",
            "microcode\t: 0xffffffff\n",
            "cpu MHz\t\t: 2200.144\n",
            "cache size\t: 56320 KB\n",
            "physical id\t: 0\n",
            "siblings\t: 2\n",
            "core id\t\t: 0\n",
            "cpu cores\t: 1\n",
            "apicid\t\t: 1\n",
            "initial apicid\t: 1\n",
            "fpu\t\t: yes\n",
            "fpu_exception\t: yes\n",
            "cpuid level\t: 13\n",
            "wp\t\t: yes\n",
            "flags\t\t: fpu vme de pse tsc msr pae mce cx8 apic sep mtrr pge mca cmov pat pse36 clflush mmx fxsr sse sse2 ss ht syscall nx pdpe1gb rdtscp lm constant_tsc rep_good nopl xtopology nonstop_tsc cpuid tsc_known_freq pni pclmulqdq ssse3 fma cx16 pcid sse4_1 sse4_2 x2apic movbe popcnt aes xsave avx f16c rdrand hypervisor lahf_lm abm 3dnowprefetch invpcid_single ssbd ibrs ibpb stibp fsgsbase tsc_adjust bmi1 hle avx2 smep bmi2 erms invpcid rtm rdseed adx smap xsaveopt arat md_clear arch_capabilities\n",
            "bugs\t\t: cpu_meltdown spectre_v1 spectre_v2 spec_store_bypass l1tf mds swapgs taa mmio_stale_data retbleed\n",
            "bogomips\t: 4400.28\n",
            "clflush size\t: 64\n",
            "cache_alignment\t: 64\n",
            "address sizes\t: 46 bits physical, 48 bits virtual\n",
            "power management:\n",
            "\n"
          ]
        }
      ],
      "source": [
        "!cat /proc/cpuinfo"
      ]
    },
    {
      "cell_type": "markdown",
      "metadata": {
        "id": "N1ok_-56OjB1"
      },
      "source": [
        "# I Solving the Sum of Two Digits Programming Challenge"
      ]
    },
    {
      "cell_type": "markdown",
      "metadata": {
        "id": "MMY7kmDSO0KM"
      },
      "source": [
        "## C++"
      ]
    },
    {
      "cell_type": "code",
      "execution_count": 2,
      "metadata": {
        "colab": {
          "base_uri": "https://localhost:8080/"
        },
        "id": "2pGGf9BkPNIk",
        "outputId": "46903723-88b7-4de4-ce4d-41a77655a8f3"
      },
      "outputs": [
        {
          "output_type": "stream",
          "name": "stdout",
          "text": [
            "Writing APlusB.cpp\n"
          ]
        }
      ],
      "source": [
        "%%writefile APlusB.cpp\n",
        "#include <iostream>\n",
        "\n",
        "int sum_of_two_digits(int first_digit, int second_digit) {\n",
        "    return first_digit + second_digit;\n",
        "}\n",
        "\n",
        "int main() {\n",
        "    int a = 0;\n",
        "    int b = 0;\n",
        "    std::cin >> a;\n",
        "    std::cin >> b;\n",
        "    std::cout << sum_of_two_digits(a, b);\n",
        "    return 0;\n",
        "}"
      ]
    },
    {
      "cell_type": "code",
      "execution_count": null,
      "metadata": {
        "id": "0G3ZKOYAPXSU"
      },
      "outputs": [],
      "source": [
        "!g++ APlusB.cpp -o APlusB -std=c++11\n",
        "!./APlusB"
      ]
    },
    {
      "cell_type": "markdown",
      "metadata": {
        "id": "iNkG2HqfTl9c"
      },
      "source": [
        "### Test input output files"
      ]
    },
    {
      "cell_type": "code",
      "execution_count": null,
      "metadata": {
        "id": "aTzU2efzMxly"
      },
      "outputs": [],
      "source": [
        "%%writefile input1.txt\n",
        "4 8"
      ]
    },
    {
      "cell_type": "code",
      "execution_count": null,
      "metadata": {
        "id": "zBJ0Gc0NQRet"
      },
      "outputs": [],
      "source": [
        "%%writefile output1.txt\n",
        "12"
      ]
    },
    {
      "cell_type": "code",
      "execution_count": null,
      "metadata": {
        "id": "IjEcIx63PJAN"
      },
      "outputs": [],
      "source": [
        "%%writefile input2.txt\n",
        "0 9"
      ]
    },
    {
      "cell_type": "code",
      "execution_count": null,
      "metadata": {
        "id": "Up9gOrxURTmd"
      },
      "outputs": [],
      "source": [
        "%%writefile output2.txt\n",
        "9"
      ]
    },
    {
      "cell_type": "code",
      "execution_count": null,
      "metadata": {
        "id": "PST6G-s-Pwgc"
      },
      "outputs": [],
      "source": [
        "!./APlusB < input1.txt"
      ]
    },
    {
      "cell_type": "code",
      "execution_count": null,
      "metadata": {
        "id": "cKxZOjSlRfIN"
      },
      "outputs": [],
      "source": [
        "!./APlusB < input2.txt"
      ]
    },
    {
      "cell_type": "markdown",
      "metadata": {
        "id": "Qw2TQWCCUwqk"
      },
      "source": [
        "### Comparing files with grep\n",
        "\n",
        "https://askubuntu.com/questions/546796/comparing-two-text-files"
      ]
    },
    {
      "cell_type": "code",
      "execution_count": null,
      "metadata": {
        "id": "WVIaAmMKU4QM"
      },
      "outputs": [],
      "source": [
        "!grep -xvFf output1.txt output1.txt"
      ]
    },
    {
      "cell_type": "code",
      "execution_count": null,
      "metadata": {
        "id": "MQU8gPPjQuYO"
      },
      "outputs": [],
      "source": [
        "!grep -xvFf output1.txt output2.txt"
      ]
    },
    {
      "cell_type": "code",
      "execution_count": null,
      "metadata": {
        "id": "jYL9OuYBTD_l"
      },
      "outputs": [],
      "source": [
        "!grep -xvFf output2.txt output1.txt"
      ]
    },
    {
      "cell_type": "code",
      "execution_count": null,
      "metadata": {
        "id": "Jlja0Xm4TX9M"
      },
      "outputs": [],
      "source": [
        "!./APlusB < input1.txt> ctest1.txt\n",
        "!grep -xvFf output1.txt ctest1.txt"
      ]
    },
    {
      "cell_type": "code",
      "execution_count": null,
      "metadata": {
        "id": "g9OIUZA_QLCQ"
      },
      "outputs": [],
      "source": [
        "!./APlusB < input2.txt > ctest2.txt\n",
        "!grep -xvFf output2.txt ctest2.txt"
      ]
    },
    {
      "cell_type": "markdown",
      "metadata": {
        "id": "3BgOaDjUVJk6"
      },
      "source": [
        "## Python"
      ]
    },
    {
      "cell_type": "code",
      "execution_count": null,
      "metadata": {
        "id": "DBvl-T0CTN_8"
      },
      "outputs": [],
      "source": [
        "%%writefile sum.py\n",
        "# python3\n",
        "\n",
        "def sum_of_two_digits(first_digit, second_digit):\n",
        "    return first_digit + second_digit\n",
        "\n",
        "if __name__ == '__main__':\n",
        "    a, b = map(int, input().split())\n",
        "    print(sum_of_two_digits(a, b))"
      ]
    },
    {
      "cell_type": "code",
      "execution_count": null,
      "metadata": {
        "id": "QKoKM11_WGyF"
      },
      "outputs": [],
      "source": [
        "!python sum.py"
      ]
    },
    {
      "cell_type": "code",
      "execution_count": null,
      "metadata": {
        "id": "cocFbPRTWrqt"
      },
      "outputs": [],
      "source": [
        "!python sum.py  < input1.txt> ptest1.txt\n",
        "!grep -xvFf output1.txt ptest1.txt"
      ]
    },
    {
      "cell_type": "code",
      "execution_count": null,
      "metadata": {
        "id": "MorKTa-XXASN"
      },
      "outputs": [],
      "source": [
        "!python sum.py  < input2.txt> ptest2.txt\n",
        "!grep -xvFf output2.txt ptest2.txt"
      ]
    },
    {
      "cell_type": "markdown",
      "metadata": {
        "id": "uvP-mOubW_5F"
      },
      "source": [
        "# II Solving The Maximum Pairwise Product Programming Challenge in C++"
      ]
    },
    {
      "cell_type": "markdown",
      "metadata": {
        "id": "C12yoFR6Xonl"
      },
      "source": [
        "## C++"
      ]
    },
    {
      "cell_type": "code",
      "source": [
        "%%writefile max_pairwise_product_full.cpp\n",
        "#include <iostream>\n",
        "#include <vector>\n",
        "#include <algorithm>\n",
        "\n",
        "int MaxPairwiseProduct(const std::vector<int>& numbers) {\n",
        "    int max_product = 0;\n",
        "    int aux_product = 0;\n",
        "    int n = numbers.size();\n",
        "\n",
        "    for (int first = 0; first < n; ++first) {\n",
        "        for (int second = 0; second < n; ++second) {\n",
        "          if ( first != second ){\n",
        "                aux_product = numbers[first] * numbers[second];\n",
        "                if (aux_product > max_product)  max_product = aux_product;\n",
        "          }\n",
        "        }\n",
        "    }\n",
        "\n",
        "    return max_product;\n",
        "}\n",
        "\n",
        "int main() {\n",
        "    int n;\n",
        "    std::cin >> n;\n",
        "    std::vector<int> numbers(n);\n",
        "    for (int i = 0; i < n; ++i) {\n",
        "        std::cin >> numbers[i];\n",
        "    }\n",
        "\n",
        "    std::cout << MaxPairwiseProduct(numbers) << \"\\n\";\n",
        "    return 0;\n",
        "}"
      ],
      "metadata": {
        "id": "3LpfoGv2Ae81"
      },
      "execution_count": null,
      "outputs": []
    },
    {
      "cell_type": "markdown",
      "source": [
        "##### Time Complexity\n",
        "$$\\left. \\begin{array}{llc}\n",
        " \\text{INSTRUCTION} & \\text{TYPE}& \\text{# EXECUTIONS}\\\\\n",
        "\\text{first != second} &  \\text{comparisons} &n^2 \\\\\n",
        "\\text{numbers[first] * numbers[second]}& \\ \\text{ products}  &n^2 - n \\\\\n",
        "\\text{max_product = aux_product} &  \\text{assigments} & [1, \\frac{n^2 - n}{2})  \n",
        "\\end{array}\\right\\}  =  O(n^2)$$"
      ],
      "metadata": {
        "id": "cah8VSkSGg1I"
      }
    },
    {
      "cell_type": "code",
      "source": [
        "!g++ max_pairwise_product_full.cpp -o max_pairwise_product_full\n",
        "!./max_pairwise_product_full"
      ],
      "metadata": {
        "id": "PCVo1h6nCF9k"
      },
      "execution_count": null,
      "outputs": []
    },
    {
      "cell_type": "markdown",
      "metadata": {
        "id": "e7KhxHGNS3i0"
      },
      "source": [
        "### Test 1: Small numbers"
      ]
    },
    {
      "cell_type": "code",
      "source": [
        "%%writefile input0.txt\n",
        "10\n",
        "0 0 0 0 0 0 0 0 0 0"
      ],
      "metadata": {
        "id": "ZOR5P_tgMG4r"
      },
      "execution_count": null,
      "outputs": []
    },
    {
      "cell_type": "code",
      "source": [
        "%%writefile output0.txt\n",
        "0"
      ],
      "metadata": {
        "id": "pYI9Z8WSMHUT"
      },
      "execution_count": null,
      "outputs": []
    },
    {
      "cell_type": "code",
      "source": [
        "!./max_pairwise_product_full< input0.txt > ctest0.txt\n",
        "!grep -xvFf output0.txt ctest0.txt"
      ],
      "metadata": {
        "id": "csYxTiCOMQHl"
      },
      "execution_count": null,
      "outputs": []
    },
    {
      "cell_type": "code",
      "execution_count": null,
      "metadata": {
        "id": "e1mmTzBgShT-"
      },
      "outputs": [],
      "source": [
        "%%writefile input1.txt\n",
        "10\n",
        "1 2 3 4 5 6 7 8 9 10"
      ]
    },
    {
      "cell_type": "code",
      "execution_count": null,
      "metadata": {
        "id": "vy_uI0x7TCId"
      },
      "outputs": [],
      "source": [
        "!./max_pairwise_product_full < input1.txt"
      ]
    },
    {
      "cell_type": "code",
      "execution_count": null,
      "metadata": {
        "id": "xaj6f9bxC6D6"
      },
      "outputs": [],
      "source": [
        "%%writefile output1.txt\n",
        "90"
      ]
    },
    {
      "cell_type": "code",
      "execution_count": null,
      "metadata": {
        "id": "fYCjAdA_C-wy"
      },
      "outputs": [],
      "source": [
        "!./max_pairwise_product_full< input1.txt > ctest1.txt\n",
        "!grep -xvFf output1.txt ctest1.txt"
      ]
    },
    {
      "cell_type": "code",
      "source": [
        "%%writefile input2.txt\n",
        "10\n",
        "10 9 8 7 6 5 4 3 2 1"
      ],
      "metadata": {
        "id": "ZPe40LY14_6f"
      },
      "execution_count": null,
      "outputs": []
    },
    {
      "cell_type": "code",
      "source": [
        "%%writefile output2.txt\n",
        "90"
      ],
      "metadata": {
        "id": "xiHmF7HA5Faa"
      },
      "execution_count": null,
      "outputs": []
    },
    {
      "cell_type": "code",
      "source": [
        "!./max_pairwise_product_full< input2.txt > ctest2.txt\n",
        "!grep -xvFf output2.txt ctest2.txt"
      ],
      "metadata": {
        "id": "jjwc9kwb5t_k"
      },
      "execution_count": null,
      "outputs": []
    },
    {
      "cell_type": "markdown",
      "metadata": {
        "id": "IeZ3kTjpYmR9"
      },
      "source": [
        "### Test 2: largest input numbers 200000 200000 in the input"
      ]
    },
    {
      "cell_type": "code",
      "execution_count": null,
      "metadata": {
        "id": "LQNlZqaqYt7U"
      },
      "outputs": [],
      "source": [
        "%%writefile input3.txt\n",
        "6\n",
        "1 3 200000 9 200000 23"
      ]
    },
    {
      "cell_type": "code",
      "execution_count": null,
      "metadata": {
        "id": "GjQq7QOUCw-9"
      },
      "outputs": [],
      "source": [
        "200000*200000"
      ]
    },
    {
      "cell_type": "code",
      "execution_count": null,
      "metadata": {
        "id": "EuS6n3jtDK5C"
      },
      "outputs": [],
      "source": [
        "%%writefile output3.txt\n",
        "40000000000"
      ]
    },
    {
      "cell_type": "code",
      "execution_count": null,
      "metadata": {
        "id": "2Wad2VZUZDxR"
      },
      "outputs": [],
      "source": [
        "!./max_pairwise_product_full < input3.txt"
      ]
    },
    {
      "cell_type": "code",
      "execution_count": null,
      "metadata": {
        "id": "pEvp1ieyDJGq"
      },
      "outputs": [],
      "source": [
        "!./max_pairwise_product_full < input3.txt > ctest3.txt\n",
        "!grep -xvFf output3.txt ctest3.txt"
      ]
    },
    {
      "cell_type": "code",
      "source": [
        " %%writefile run_all_test.sh\n",
        "#!/bin/bash\n",
        "g++ max_pairwise_product_full.cpp -o max_pairwise_product_full\n",
        "for i in {0..3}\n",
        "do\n",
        "    ./max_pairwise_product_full < input$i.txt > ctest$i.txt\n",
        "    grep -xvFf output$i.txt ctest$i.txt\n",
        "done"
      ],
      "metadata": {
        "id": "SrtJrKqM-God"
      },
      "execution_count": null,
      "outputs": []
    },
    {
      "cell_type": "code",
      "source": [
        "!chmod u+x run_all_test.sh\n",
        "!./run_all_test.sh"
      ],
      "metadata": {
        "id": "wGWMHtzS-QnA"
      },
      "execution_count": null,
      "outputs": []
    },
    {
      "cell_type": "markdown",
      "metadata": {
        "id": "H2SC0Qt5HCzz"
      },
      "source": [
        "Changing the variables to long long"
      ]
    },
    {
      "cell_type": "code",
      "execution_count": null,
      "metadata": {
        "id": "MPcmsxiQZSfE"
      },
      "outputs": [],
      "source": [
        "%%writefile max_pairwise_product_long_full.cpp\n",
        "#include <iostream>\n",
        "#include <vector>\n",
        "#include <algorithm>\n",
        "\n",
        "long long MaxPairwiseProduct(const std::vector<int>& numbers) {\n",
        "    long long max_product = 0LL;\n",
        "\t  long long aux_product = 0LL;\n",
        "    int n = numbers.size();\n",
        "\n",
        "    for (int first = 0; first < n; ++first) {\n",
        "        for (int second = 0; second < n; ++second) {\n",
        "          if ( first != second){\n",
        "                aux_product = (long long) numbers[first] * numbers[second];\n",
        "                if (aux_product > max_product)  max_product = aux_product;\n",
        "          }\n",
        "        }\n",
        "    }\n",
        "\n",
        "\n",
        "    return max_product;\n",
        "}\n",
        "\n",
        "int main() {\n",
        "    int n;\n",
        "    std::cin >> n;\n",
        "    std::vector<int> numbers(n);\n",
        "    for (int i = 0; i < n; ++i) {\n",
        "        std::cin >> numbers[i];\n",
        "    }\n",
        "\n",
        "    std::cout << MaxPairwiseProduct(numbers) << \"\\n\";\n",
        "    return 0;\n",
        "}\n"
      ]
    },
    {
      "cell_type": "code",
      "source": [
        "!g++ max_pairwise_product_long_full.cpp -o max_pairwise_product_long_full"
      ],
      "metadata": {
        "id": "W3xQpFXL6wjO"
      },
      "execution_count": null,
      "outputs": []
    },
    {
      "cell_type": "code",
      "source": [
        "!./max_pairwise_product_long_full < input3.txt"
      ],
      "metadata": {
        "id": "H5dvN9M3R9sV"
      },
      "execution_count": null,
      "outputs": []
    },
    {
      "cell_type": "markdown",
      "source": [
        "### Runing multuple test with a bash shell"
      ],
      "metadata": {
        "id": "gx-sEYdfQ8f8"
      }
    },
    {
      "cell_type": "code",
      "source": [
        " %%writefile run_all_test.sh\n",
        "#!/bin/bash\n",
        "g++ max_pairwise_product_long_full.cpp -o max_pairwise_product_long_full\n",
        "for i in {0..3}\n",
        "do\n",
        "    ./max_pairwise_product_long_full < input$i.txt > ctest$i.txt\n",
        "    grep -xvFf output$i.txt ctest$i.txt\n",
        "done"
      ],
      "metadata": {
        "id": "O9qsq2nn7elw"
      },
      "execution_count": null,
      "outputs": []
    },
    {
      "cell_type": "markdown",
      "source": [
        "comparacion de salida esperada con la salida obtenida, usando tipos de dato long long para las variables y retorno de la funcion max_product\n"
      ],
      "metadata": {
        "id": "G0iUcclVI_dj"
      }
    },
    {
      "cell_type": "code",
      "source": [
        "!chmod u+x run_all_test.sh\n",
        "!./run_all_test.sh"
      ],
      "metadata": {
        "id": "0g5kKVph7xIA"
      },
      "execution_count": null,
      "outputs": []
    },
    {
      "cell_type": "markdown",
      "metadata": {
        "id": "XPVHkHxH6_7s"
      },
      "source": [
        "### Test 3  stress tests 6 testing cases files input4.txt/output4.txt .. input10.txt/output10.txt\n",
        "\n",
        "---\n",
        "\n"
      ]
    },
    {
      "cell_type": "code",
      "execution_count": null,
      "metadata": {
        "id": "PwqpBmYr69fu"
      },
      "outputs": [],
      "source": [
        "%%writefile input4.txt\n",
        "10\n",
        "200000 23 200000 0 45 1 4 6 123 32131"
      ]
    },
    {
      "cell_type": "code",
      "source": [
        "200000 * 200000"
      ],
      "metadata": {
        "id": "lrg7o9_hRwfd"
      },
      "execution_count": null,
      "outputs": []
    },
    {
      "cell_type": "code",
      "source": [
        "%%writefile output4.txt\n",
        "40000000000"
      ],
      "metadata": {
        "id": "MC6V32sURzzo"
      },
      "execution_count": null,
      "outputs": []
    },
    {
      "cell_type": "code",
      "execution_count": null,
      "metadata": {
        "id": "jBCkMeR6Fw4y"
      },
      "outputs": [],
      "source": [
        "%%writefile input5.txt\n",
        "5\n",
        "3 1 200000 45 20000"
      ]
    },
    {
      "cell_type": "code",
      "source": [
        "200000 * 20000"
      ],
      "metadata": {
        "id": "WdbOrctRR8He"
      },
      "execution_count": null,
      "outputs": []
    },
    {
      "cell_type": "code",
      "source": [
        "%%writefile output5.txt\n",
        "4000000000"
      ],
      "metadata": {
        "id": "282kgaHTSBG4"
      },
      "execution_count": null,
      "outputs": []
    },
    {
      "cell_type": "code",
      "source": [
        "%%writefile input6.txt\n",
        "15\n",
        "199999 234 0 234 3000 124511 400000 4523 7845 121314 89677 453123 523213 7453 0"
      ],
      "metadata": {
        "id": "zED8V8wu-eoM"
      },
      "execution_count": null,
      "outputs": []
    },
    {
      "cell_type": "code",
      "source": [
        "453123 * 523213"
      ],
      "metadata": {
        "id": "lO08FMtbSUIA"
      },
      "execution_count": null,
      "outputs": []
    },
    {
      "cell_type": "code",
      "source": [
        "%%writefile output6.txt\n",
        "237079844199"
      ],
      "metadata": {
        "id": "CP8V1ujVSVdA"
      },
      "execution_count": null,
      "outputs": []
    },
    {
      "cell_type": "code",
      "source": [
        "%%writefile input7.txt\n",
        "2\n",
        "900000 5"
      ],
      "metadata": {
        "id": "ekP_h0bFzW66"
      },
      "execution_count": null,
      "outputs": []
    },
    {
      "cell_type": "code",
      "source": [
        "900000 * 5"
      ],
      "metadata": {
        "id": "6FTVYloISchv"
      },
      "execution_count": null,
      "outputs": []
    },
    {
      "cell_type": "code",
      "source": [
        "%%writefile output7.txt\n",
        "4500000"
      ],
      "metadata": {
        "id": "a_NHuhkQSf4E"
      },
      "execution_count": null,
      "outputs": []
    },
    {
      "cell_type": "code",
      "source": [
        "%%writefile input8.txt\n",
        "19\n",
        "28543 11213 7663 35730 28443 14637 19039 25441 20156 16505 30649 23923 25435 18913 29108 25409 17174 143 11733"
      ],
      "metadata": {
        "id": "p4i5M8KNzorY"
      },
      "execution_count": null,
      "outputs": []
    },
    {
      "cell_type": "code",
      "source": [
        "35730 * 30649"
      ],
      "metadata": {
        "id": "fpvjZq3LSmJ1"
      },
      "execution_count": null,
      "outputs": []
    },
    {
      "cell_type": "code",
      "source": [
        "%%writefile output8.txt\n",
        "1095088770"
      ],
      "metadata": {
        "id": "fYvYh8bNSmoi"
      },
      "execution_count": null,
      "outputs": []
    },
    {
      "cell_type": "code",
      "source": [
        "%%writefile input9.txt\n",
        "50\n",
        "59918 10147 58122 15353 69460 86114 18171 45377 79182 68269\n",
        "33235 50458 37455 14672 78008 28725 41017 56580 49624 29429\n",
        "23106 12679 29952 26702 84626 25185 45291 89627 38901 23801\n",
        "53468 80883 68361 72442 87880 34449 17123 56210 52144 46789\n",
        "62951 12690 46326 85744 11059 36021 49412 11731 21735 33212"
      ],
      "metadata": {
        "id": "ySuwhDI_0VdY"
      },
      "execution_count": null,
      "outputs": []
    },
    {
      "cell_type": "code",
      "source": [
        "89627 * 87880"
      ],
      "metadata": {
        "id": "QvCygbQKS8Q_"
      },
      "execution_count": null,
      "outputs": []
    },
    {
      "cell_type": "code",
      "source": [
        "%%writefile output9.txt\n",
        "7876420760"
      ],
      "metadata": {
        "id": "wlUc31rsS8pD"
      },
      "execution_count": null,
      "outputs": []
    },
    {
      "cell_type": "code",
      "source": [
        "%%writefile input10.txt\n",
        "60\n",
        "16695 50605 42530 57855 24236 24347 36570 58107 25949 26939\n",
        "10769 54063 66323 23606 22007 37126 51412 14381 43186 12283\n",
        "34525 55947 52947 66780 14485 41951 63416 32926 27342 64352\n",
        "37077 27768 27124 54245 63911 28044 12350 64340 57079 51652\n",
        "38353 17289 45777 45391 22221 60764 26161 36591 12275 49150\n",
        "123888 129855 116245 96360 107581 124692 133711 82847 116602 103602"
      ],
      "metadata": {
        "id": "4v7E0Tyr18pI"
      },
      "execution_count": null,
      "outputs": []
    },
    {
      "cell_type": "code",
      "source": [
        "133711 * 129855"
      ],
      "metadata": {
        "id": "fTeKncWjTT3D"
      },
      "execution_count": null,
      "outputs": []
    },
    {
      "cell_type": "code",
      "source": [
        "%%writefile output10.txt\n",
        "17363041905"
      ],
      "metadata": {
        "id": "bJCq7Cw3TUNJ"
      },
      "execution_count": null,
      "outputs": []
    },
    {
      "cell_type": "markdown",
      "source": [
        "creacion de script para la comparacion de los casos de prueba, salida esperada con salida obtenida"
      ],
      "metadata": {
        "id": "Il8kjhnpJpmC"
      }
    },
    {
      "cell_type": "code",
      "source": [
        "%%writefile stress_test.sh\n",
        "#!/bin/bash\n",
        "g++ max_pairwise_product_long_full.cpp -o max_pairwise_product_long_full\n",
        "\n",
        "for i in {0..10}\n",
        "do\n",
        "    ./max_pairwise_product_long_full < input$i.txt > ctest$i.txt\n",
        "    grep -xvFf output$i.txt ctest$i.txt\n",
        "done"
      ],
      "metadata": {
        "id": "bCaCS3hh3doJ"
      },
      "execution_count": null,
      "outputs": []
    },
    {
      "cell_type": "markdown",
      "source": [
        "como la respuesta obtenida despues de la ejecucion del script es vacia significa que hubo coincidencias exactas (usando las entradas de input.txt) entre las salidas esperdas y las salidas obtenidas"
      ],
      "metadata": {
        "id": "bedA54B2J9rz"
      }
    },
    {
      "cell_type": "code",
      "source": [
        "#Running tests cases. Check \"/files\" for \"outputN.txt\" where N is the Nth output for the Nth \"inputN.txt\" (e.g. input4.txt/output4.txt)\n",
        "!chmod 744 stress_test.sh\n",
        "!./stress_test.sh"
      ],
      "metadata": {
        "id": "jMORQoUV4Qq0"
      },
      "execution_count": null,
      "outputs": []
    },
    {
      "cell_type": "markdown",
      "metadata": {
        "id": "9z9yr5QkeyJF"
      },
      "source": [
        "### Test 4  time test  measure the execution time running with the the largest worst cases input11.txt  (200000 increasing numbers) and inoput12.txt (199998 increasing numbers and  200000, 200000 at the end)"
      ]
    },
    {
      "cell_type": "code",
      "source": [
        "# input11.txt 200000 increasing numbers:  1 2 .. 200000\n",
        "%%writefile WriteTest.cpp\n",
        "\n",
        "#include <iostream>\n",
        "#include <fstream>\n",
        "#include <cstdlib>\n",
        "\n",
        "using namespace std;\n",
        "\n",
        "int main() {\n",
        "  // Create and open a text file\n",
        "  ofstream MyFile(\"input11.txt\");\n",
        "\n",
        " MyFile << 200000 <<\"\\n\";  // n\n",
        " for (int i=1; i <200001; i++){\n",
        "     MyFile << i <<\" \";\n",
        " }\n",
        "\n",
        "  // Close the file\n",
        "  MyFile.close();\n",
        "}"
      ],
      "metadata": {
        "id": "UmB1ipWM_nSk"
      },
      "execution_count": null,
      "outputs": []
    },
    {
      "cell_type": "code",
      "execution_count": null,
      "metadata": {
        "id": "EH25TkOkZfD9"
      },
      "outputs": [],
      "source": [
        "!g++ WriteTest.cpp -o WriteTest\n",
        "!./WriteTest"
      ]
    },
    {
      "cell_type": "code",
      "source": [
        "199999 * 200000"
      ],
      "metadata": {
        "id": "j0mokSOnCCtZ"
      },
      "execution_count": null,
      "outputs": []
    },
    {
      "cell_type": "markdown",
      "source": [
        "salida esperada del max producto"
      ],
      "metadata": {
        "id": "XnDvH3KlLAF6"
      }
    },
    {
      "cell_type": "code",
      "source": [
        "%%writefile output11.txt\n",
        "39999800000"
      ],
      "metadata": {
        "id": "VoDhDV73B5Mo"
      },
      "execution_count": null,
      "outputs": []
    },
    {
      "cell_type": "code",
      "execution_count": null,
      "metadata": {
        "id": "oLiMjbAIfPlX"
      },
      "outputs": [],
      "source": [
        "# input12.txt 200000 decreasing numbers and 200000, 199999 ...  2 1\n",
        "%%writefile WriteTest.cpp\n",
        "\n",
        "#include <iostream>\n",
        "#include <fstream>\n",
        "#include <cstdlib>\n",
        "\n",
        "using namespace std;\n",
        "\n",
        "int main() {\n",
        "  // Create and open a text file\n",
        "  ofstream MyFile(\"input12.txt\");\n",
        "\n",
        " MyFile << 200000 <<\"\\n\";  // n\n",
        " for (int i=1; i <200001; i++){\n",
        "     MyFile << 200001-i <<\" \";\n",
        " }\n",
        "\n",
        "  // Close the file\n",
        "  MyFile.close();\n",
        "}"
      ]
    },
    {
      "cell_type": "code",
      "source": [
        "!g++ WriteTest.cpp -o WriteTest\n",
        "!./WriteTest"
      ],
      "metadata": {
        "id": "oULNBr_zAd9c"
      },
      "execution_count": null,
      "outputs": []
    },
    {
      "cell_type": "code",
      "source": [
        "%%writefile output12.txt\n",
        "39999800000"
      ],
      "metadata": {
        "id": "PQLyocaFB-y4"
      },
      "execution_count": null,
      "outputs": []
    },
    {
      "cell_type": "markdown",
      "metadata": {
        "id": "JB6f03qO-lj9"
      },
      "source": [
        "Measure time\n",
        "\n",
        "https://askubuntu.com/questions/53444/how-can-i-measure-the-execution-time-of-a-terminal-process"
      ]
    },
    {
      "cell_type": "markdown",
      "source": [
        "calculo del max_producto de una lista de 200k elementos del 1 al 200k"
      ],
      "metadata": {
        "id": "WUTuVjX-MeXa"
      }
    },
    {
      "cell_type": "code",
      "execution_count": null,
      "metadata": {
        "id": "6p2QLEr576zk"
      },
      "outputs": [],
      "source": [
        "!g++ max_pairwise_product_long_full.cpp -o max_pairwise_product_long_full\n",
        "!time ./max_pairwise_product_long_full< input11.txt"
      ]
    },
    {
      "cell_type": "markdown",
      "source": [
        "calculo del max_producto de una lista de 200k elementos del 200k al 1"
      ],
      "metadata": {
        "id": "dCPxFkKiNiEZ"
      }
    },
    {
      "cell_type": "code",
      "source": [
        "!g++ max_pairwise_product_long_full.cpp -o max_pairwise_product_long_full\n",
        "!time ./max_pairwise_product_long_full< input12.txt"
      ],
      "metadata": {
        "id": "cnjCyeUdAnZj"
      },
      "execution_count": null,
      "outputs": []
    },
    {
      "cell_type": "markdown",
      "metadata": {
        "id": "FXClpBsUJuXC"
      },
      "source": [
        "##### Calculate the number or and upper bound to the number of instructions executed by the algorithm as a function of n, add in each line a comment with the number of instructions that are executed in that line."
      ]
    },
    {
      "cell_type": "code",
      "execution_count": null,
      "metadata": {
        "id": "uG6Mv-Pwlkii"
      },
      "outputs": [],
      "source": [
        "%%writefile max_pairwise_product_long_full.cpp\n",
        "#include <iostream>\n",
        "#include <vector>\n",
        "#include <algorithm>\n",
        "\n",
        "long long MaxPairwiseProduct(const std::vector<int>& numbers) {              //INSTRUCTIONS executed by line\n",
        "    long long max_product = 0LL;                                             //1\n",
        "\t  long long aux_product = 0LL;                                             //1\n",
        "    int n = numbers.size();                                                  //1\n",
        "\n",
        "    for (int first = 0; first < n; ++first) {                                //2+2n\n",
        "        for (int second = 0; second < n; ++second) {                         //2n + 2n**2\n",
        "          if ( first != second ){                                            //n**2\n",
        "                aux_product = numbers[first] * numbers[second];              //n**2 -n\n",
        "                if (aux_product > max_product)                               //n**2 -n\n",
        "                    max_product = aux_product;                               //[0, n**2/2 - n/2] upper bound\n",
        "          }\n",
        "        }\n",
        "    }\n",
        "\n",
        "                                                                             // --------------\n",
        "    return max_product;                                                      // 5 + 2*n + [5*n**2, 11*n**2/2  - n/2]  upper bound\n",
        "}\n",
        "\n",
        "int main() {                                              //INSTRUCTIONS executed by line\n",
        "    int n;                                                //1\n",
        "    std::cin >> n;                                        //1\n",
        "    std::vector<int> numbers(n);                          //n\n",
        "    for (int i = 0; i < n; ++i) {                         //2 + 2n\n",
        "        std::cin >> numbers[i];                           //n\n",
        "    }\n",
        "\n",
        "    std::cout << MaxPairwiseProduct(numbers) << \"\\n\";     //1 + 1  + 5 + 2*n + [5*n**2, 11*n**2/2  - n/2]\n",
        "\n",
        "    return 0;                                             // --------------\n",
        "}                                                         //  11 + 6*n + [5*n**2, 11*n**2/2  - n/2]  upper bound"
      ]
    },
    {
      "cell_type": "markdown",
      "metadata": {
        "id": "0vTsUg8OwcHs"
      },
      "source": [
        "Count executed intructions in code"
      ]
    },
    {
      "cell_type": "code",
      "execution_count": null,
      "metadata": {
        "id": "CuRKkqQc137V"
      },
      "outputs": [],
      "source": [
        "%%writefile max_pairwise_product_long_full_execints.cpp\n",
        "#include <iostream>\n",
        "#include <vector>\n",
        "#include <algorithm>\n",
        "\n",
        "long long MaxPairwiseProduct(const std::vector<int>& numbers, long long &execints) {      //INSTRUCTIONS executed by line\n",
        "\n",
        "    long long max_product = 0LL;                                                          //1\n",
        "    execints++;\n",
        "\n",
        "\t  long long aux_product = 0LL;                                                          //1\n",
        "    execints++;\n",
        "\n",
        "    int n = numbers.size();                                                               //1\n",
        "    execints++;\n",
        "\n",
        "    execints++;\n",
        "    for (int first = 0; first < n; ++first) {                                             //2+2n\n",
        "        execints += 2;\n",
        "\n",
        "        execints++;\n",
        "        for (int second = 0; second < n; ++second) {                                       //2n + 2n**2\n",
        "          execints += 2;\n",
        "\n",
        "          execints++;\n",
        "          if ( first != second ){                                                         //n**2\n",
        "                aux_product = numbers[first] * numbers[second];                           //n**2 -n\n",
        "                execints++;\n",
        "\n",
        "                execints++;\n",
        "                if (aux_product > max_product){                                           //n**2 -n\n",
        "                    max_product = aux_product;                                            //[0,n**2/2 - n/2)  upper bound\n",
        "                    execints++;\n",
        "\n",
        "                }\n",
        "        }\n",
        "\n",
        "      }\n",
        "      execints++;\n",
        "    }\n",
        "    execints++;\n",
        "                                                                                        // --------------\n",
        "    return max_product;                                                                 // 5 + 2*n + [5*n**2, 11*n**2/2  - n/2] upper bound\n",
        "}\n",
        "\n",
        "int main() {                                                 ////INSTRUCTIONS executed by line\n",
        "\n",
        "    long long execints =0LL;\n",
        "\n",
        "    int n;                                                   //1\n",
        "    execints++;\n",
        "\n",
        "    std::cin >> n;                                           //1\n",
        "    execints++;\n",
        "\n",
        "    std::vector<int> numbers(n);                             //n\n",
        "    execints += n;\n",
        "\n",
        "    execints++;\n",
        "    for (int i = 0; i < n; ++i) {                            //2 + 2n\n",
        "        execints += 2;\n",
        "\n",
        "        std::cin >> numbers[i];\n",
        "        execints++;                                          //n\n",
        "\n",
        "    }\n",
        "\n",
        "\n",
        "    //std::cout << MaxPairwiseProduct(numbers) << \"\\n\";      //1 + 1  + 5 + 2*n + [5*n**2, 11*n**2/2  - n/2] upper bound\n",
        "\n",
        "    execints++;\n",
        "    int M = MaxPairwiseProduct(numbers,execints);\n",
        "    execints++;\n",
        "\n",
        "    execints++;\n",
        "    std::cout <<  execints << \"\\n\";\n",
        "    return 0;                                                // --------------\n",
        "}                                                            // 11 + 6*n + [5*n**2, 11*n**2/2  - n/2]"
      ]
    },
    {
      "cell_type": "markdown",
      "source": [
        "The number of instructions executed by the algooirithm with a list of size $n$ is  \n",
        "\n",
        "$$T (n) = 11 + 6n + \\left[5n^2, 11\\frac{n^2}{2}  - \\frac{n}{2}\\right) \\ \\  \\text{upper bound}$$\n",
        "\n",
        "It depends on the size of the lists and  the order of the list.\n",
        "\n",
        "For the input0.txt\n",
        "```\n",
        "10\n",
        "0 0 0 0 0 0 0 0 0 0\n",
        "```\n",
        "$$T = 11 + 6(10) + 5(10)^2   = 561 $$\n",
        "\n",
        "$$T(10) \\in [571, 621)  $$"
      ],
      "metadata": {
        "id": "cUjHtvtdDsmr"
      }
    },
    {
      "cell_type": "code",
      "source": [
        "!g++ max_pairwise_product_long_full_execints.cpp -o max_pairwise_product_long_full_execints\n",
        "!./max_pairwise_product_long_full_execints < input0.txt"
      ],
      "metadata": {
        "id": "r2Thv4qnNYGJ"
      },
      "execution_count": null,
      "outputs": []
    },
    {
      "cell_type": "markdown",
      "source": [
        "For the input1.txt\n",
        "```\n",
        "10\n",
        "1 2 3 4 5 6 7 8 9 10\n",
        "```\n",
        "$$T = 11 + 6(10) + 5(10)^2 +  9 + 5 + 4 + 3 + 2 + 2 + 2 + 2 + 1 + 0  = 601 $$\n",
        "\n",
        "$$T(10) \\in [572, 622)  $$"
      ],
      "metadata": {
        "id": "VeHNazHiNgvp"
      }
    },
    {
      "cell_type": "code",
      "source": [
        "#The number of times that  max_product = aux_product; in the worst case is less than (n**2 -n)/2 -  upper bound\n",
        "\n",
        "#     1  2  3  4  5  6  7  8  9  10\n",
        "#  1  x  2  3  4  5  6  7  8  9  10         9\n",
        "#  2  2  x  6  8  10 12 14 16 18 20         5 14\n",
        "#  3  3  6  x  12 15 18 21 24 27 30         4 18\n",
        "#  4  4  8  12 x  20 24 28 32 36 40         3 21\n",
        "#  5  5  10 15 20 x  30 35 40 45 50         2 23\n",
        "#  6  6  12 18 24 30 x  42 48 54 60         2 25\n",
        "#  7  7  14 21 28 35 42 x  56 63 70         2 27\n",
        "#  8  8  18 27 36 45 54 63 72 x  90         1 30\n",
        "#  10 10 20 30 40 50 60 70 60 90 x          0"
      ],
      "metadata": {
        "id": "K59xQMWiBNFj"
      },
      "execution_count": null,
      "outputs": []
    },
    {
      "cell_type": "code",
      "source": [
        "11 + 6*(10) + 5*(10)*(10) +  9 + 5 + 4 + 3 + 2 + 2 + 2 + 2 + 1 + 0"
      ],
      "metadata": {
        "id": "E3O8dzFfEgir"
      },
      "execution_count": null,
      "outputs": []
    },
    {
      "cell_type": "code",
      "source": [
        "n = 10\n",
        "print( \"[\", 11 + 6*n + 5*n**2,  \",\", 11 + 6*n  + 5.5*n**2, \")\")"
      ],
      "metadata": {
        "id": "TCpdl5u_Gq1a"
      },
      "execution_count": null,
      "outputs": []
    },
    {
      "cell_type": "code",
      "execution_count": null,
      "metadata": {
        "id": "Kuvm1C05ly2a"
      },
      "outputs": [],
      "source": [
        "!g++ max_pairwise_product_long_full_execints.cpp -o max_pairwise_product_long_full_execints\n",
        "!./max_pairwise_product_long_full_execints < input1.txt"
      ]
    },
    {
      "cell_type": "markdown",
      "source": [
        "For the input2.txt\n",
        "```\n",
        "10\n",
        "10 9 8 7 6 5 4 3 2 1\n",
        "```\n",
        "$$T = 11 + 6*(10) + 5*(10)**2 +  1  = 571 $$"
      ],
      "metadata": {
        "id": "Yr_Lb7CaHfxB"
      }
    },
    {
      "cell_type": "code",
      "source": [
        "11 + 6*(10) + 5*(10)**2 +  1"
      ],
      "metadata": {
        "id": "HOdqlwJiZUIp"
      },
      "execution_count": null,
      "outputs": []
    },
    {
      "cell_type": "code",
      "source": [
        "!g++ max_pairwise_product_long_full_execints.cpp -o max_pairwise_product_long_full_execints\n",
        "!./max_pairwise_product_long_full_execints < input2.txt\n",
        "n= 10"
      ],
      "metadata": {
        "id": "_znzLectjFSe"
      },
      "execution_count": null,
      "outputs": []
    },
    {
      "cell_type": "markdown",
      "metadata": {
        "id": "L_uaamxeAHK7"
      },
      "source": [
        "For the input11.txt\n",
        "```\n",
        "200000\n",
        "1 2 ..  199999 200000\n",
        "```\n",
        "$$T = 11 + 6*(200000) + 5.5*(200000)**2  = 200001200012  $$\n",
        "\n"
      ]
    },
    {
      "cell_type": "code",
      "source": [
        "9 + 5*(200000) + 5*(200000)**2 +1"
      ],
      "metadata": {
        "id": "c7X-ewmeXe-h"
      },
      "execution_count": null,
      "outputs": []
    },
    {
      "cell_type": "markdown",
      "metadata": {
        "id": "NXW7QkoBL6xH"
      },
      "source": [
        "Calculate estimated time by instruction and number of instructions by second"
      ]
    },
    {
      "cell_type": "code",
      "source": [
        "!g++ max_pairwise_product_long_full_execints.cpp -o max_pairwise_product_long_full_execints\n",
        "!./max_pairwise_product_long_full_execints < input11.txt"
      ],
      "metadata": {
        "id": "BMH8mF3EKn2w"
      },
      "execution_count": null,
      "outputs": []
    },
    {
      "cell_type": "code",
      "execution_count": null,
      "metadata": {
        "id": "pKqB3i7dIxnc"
      },
      "outputs": [],
      "source": [
        "# Estimated time by instruction\n",
        "295/200001000021\n"
      ]
    },
    {
      "cell_type": "code",
      "execution_count": null,
      "metadata": {
        "id": "18N1ouqeMhE1"
      },
      "outputs": [],
      "source": [
        "# Estimated number of instructions by second\n",
        "1 / (295/200001000021)"
      ]
    },
    {
      "cell_type": "markdown",
      "source": [
        "# Estimate the maximun n that can be solved in 1 second\n",
        "\n",
        "$$(5.5n^2 + 5.5n + 11) \\times 1.47*10^{-9} s = 1 s$$\n",
        "\n",
        "$$ n \\approx 11000$$\n"
      ],
      "metadata": {
        "id": "KyuxejFkL5X_"
      }
    },
    {
      "cell_type": "markdown",
      "source": [
        "inpunt11.txt lista de 11000 elementos, del 1 al 11k"
      ],
      "metadata": {
        "id": "nTrCS9KqPn0K"
      }
    },
    {
      "cell_type": "code",
      "source": [
        "# Verify input13.txt\n",
        "%%writefile WriteTest.cpp\n",
        "\n",
        "#include <iostream>\n",
        "#include <fstream>\n",
        "#include <cstdlib>\n",
        "\n",
        "using namespace std;\n",
        "\n",
        "int main() {\n",
        "  // Create and open a text file\n",
        "  ofstream MyFile(\"input13.txt\");\n",
        "\n",
        " MyFile << 11000 <<\"\\n\";  // n\n",
        " for (int i=1; i <11001; i++){\n",
        "     MyFile << i <<\" \";\n",
        " }\n",
        "\n",
        "  // Close the file\n",
        "  MyFile.close();\n",
        "}"
      ],
      "metadata": {
        "id": "WXu5jp-DLTOI"
      },
      "execution_count": null,
      "outputs": []
    },
    {
      "cell_type": "markdown",
      "source": [
        "compilamos y ejecutamos el archivo para crear el archivo input13.txt con las 11k entradas"
      ],
      "metadata": {
        "id": "9fHulBrkP8eG"
      }
    },
    {
      "cell_type": "code",
      "source": [
        "!g++ WriteTest.cpp -o WriteTest\n",
        "!./WriteTest"
      ],
      "metadata": {
        "id": "AQ8N52pUMCeT"
      },
      "execution_count": null,
      "outputs": []
    },
    {
      "cell_type": "markdown",
      "source": [
        "ejecutamos el algoritmo para encontrar el max_producto pasando como entrada la lista de 11k elementos del archivo input13.txt\n",
        "\n",
        "salida esperada: 11000 * 10999 = 120989000\n"
      ],
      "metadata": {
        "id": "lfGebxKtQDwi"
      }
    },
    {
      "cell_type": "code",
      "source": [
        "!g++ max_pairwise_product_long_full.cpp -o max_pairwise_product_long_full\n",
        "!time ./max_pairwise_product_long_full< input13.txt"
      ],
      "metadata": {
        "id": "ussuAokfM2du"
      },
      "execution_count": null,
      "outputs": []
    },
    {
      "cell_type": "markdown",
      "metadata": {
        "id": "Tm_AVmt-QQH4"
      },
      "source": [
        "## Python"
      ]
    },
    {
      "cell_type": "code",
      "source": [
        "%%writefile max_pairwise_product_py.py\n",
        "#Python3\n",
        "def max_pairwise_product(l):\n",
        "    max_product = 0\n",
        "    aux_product = 0\n",
        "    n = len(l)\n",
        "    for i in range(n):\n",
        "        for j in range(n):\n",
        "            if i != j:\n",
        "                aux_product = l[i] * l[j]\n",
        "                if aux_product > max_product:\n",
        "                    max_product = aux_product\n",
        "    return max_product\n",
        "\n",
        "if __name__ == \"__main__\":\n",
        "    n = int(input())\n",
        "    l = list(map(int, input().split()))\n",
        "    print(max_pairwise_product(l))"
      ],
      "metadata": {
        "id": "uQULnYLvO9wj"
      },
      "execution_count": null,
      "outputs": []
    },
    {
      "cell_type": "markdown",
      "source": [
        "cod. fuente para crear el archivo input14.txt con los valores del 1 al 11k"
      ],
      "metadata": {
        "id": "hTcSxKYHRFgR"
      }
    },
    {
      "cell_type": "code",
      "execution_count": null,
      "metadata": {
        "id": "gRCCcd7IQTKZ"
      },
      "outputs": [],
      "source": [
        "%%writefile WriteTestPython.py\n",
        "#Python3\n",
        "if __name__ == \"__main__\":\n",
        "    with open(\"input14.txt\", \"w\") as f:\n",
        "        f.write(\"11000\\n\")\n",
        "        for i in range(1, 11001):\n",
        "            f.write(f\"{i} \")"
      ]
    },
    {
      "cell_type": "markdown",
      "source": [
        "ejecucion del cod fuente anterior para crear el archivo input14.txt"
      ],
      "metadata": {
        "id": "_tcy_gKrRtY4"
      }
    },
    {
      "cell_type": "code",
      "execution_count": null,
      "metadata": {
        "id": "kAEAoNZEQTCw"
      },
      "outputs": [],
      "source": [
        "!python WriteTestPython.py"
      ]
    },
    {
      "cell_type": "markdown",
      "source": [
        "ejecucion del algoritmo en python con las entradas del archivo input14.txt"
      ],
      "metadata": {
        "id": "MDTcMZeNSBXn"
      }
    },
    {
      "cell_type": "code",
      "execution_count": null,
      "metadata": {
        "id": "hjw7TJrDL0d-"
      },
      "outputs": [],
      "source": [
        "# Verify #Not surprising Python version is slower...\n",
        "%%time\n",
        "!python max_pairwise_product_py.py < input14.txt"
      ]
    },
    {
      "cell_type": "markdown",
      "metadata": {
        "id": "MKQKSC-vKePK"
      },
      "source": [
        "## Perform the same analysis for an algorithm in C++ and Python that uses\n",
        "$$\\frac{n^2 - n}{2} = O(n^2)\\ \\ \\text{products}$$"
      ]
    },
    {
      "cell_type": "code",
      "execution_count": null,
      "metadata": {
        "id": "jkkHHoxSK65p"
      },
      "outputs": [],
      "source": [
        "%%writefile max_pairwise_product.cpp\n",
        "#include <iostream>\n",
        "#include <vector>\n",
        "#include <algorithm>\n",
        "\n",
        "int MaxPairwiseProduct(const std::vector<int>& numbers) {\n",
        "    int max_product = 0;\n",
        "    int n = numbers.size();\n",
        "\n",
        "    for (int first = 0; first < n; ++first) {\n",
        "        for (int second = first + 1; second < n; ++second) {\n",
        "            max_product = std::max(max_product,\n",
        "                numbers[first] * numbers[second]);\n",
        "        }\n",
        "    }\n",
        "\n",
        "    return max_product;\n",
        "}\n",
        "\n",
        "int main() {\n",
        "    int n;\n",
        "    std::cin >> n;\n",
        "    std::vector<int> numbers(n);\n",
        "    for (int i = 0; i < n; ++i) {\n",
        "        std::cin >> numbers[i];\n",
        "    }\n",
        "\n",
        "    std::cout << MaxPairwiseProduct(numbers) << \"\\n\";\n",
        "    return 0;\n",
        "}"
      ]
    },
    {
      "cell_type": "code",
      "execution_count": null,
      "metadata": {
        "id": "sU8-Ote7K8vz"
      },
      "outputs": [],
      "source": [
        "%%writefile max_pairwise_product_long.cpp\n",
        "#include <iostream>\n",
        "#include <vector>\n",
        "#include <algorithm>\n",
        "\n",
        "long long MaxPairwiseProduct(const std::vector<int>& numbers) {              //INSTRUCTIONS executed by line\n",
        "    long long max_product = 0LL;                                             //1\n",
        "\t  long long aux_product = 0LL;                                             //1\n",
        "    int n = numbers.size();                                                  //1\n",
        "\n",
        "    for (int first = 0; first < n; ++first) {                                //2+2n\n",
        "        for (int second = first + 1; second < n; ++second) {                 //2n + (n-1)n\n",
        "\t\t\t       aux_product =  (long long) numbers[first] * numbers[second];    //(n-1)n/2\n",
        "            if (max_product < aux_product)  {                                //(n-1)n/2\n",
        "\t\t\t\t        max_product = aux_product;                                   //[1,(n-1)n/2)  upper bound\n",
        "             }\n",
        "        }\n",
        "    }\n",
        "                                                                             // --------------\n",
        "    return max_product;                                                      // 5 + 4n + [2(n-1)n+1, 2.5 (n-1)n) upper bound\n",
        "}\n",
        "\n",
        "int main() {                                              //INSTRUCTIONS executed by line\n",
        "    int n;                                                //1\n",
        "    std::cin >> n;                                        //1\n",
        "    std::vector<int> numbers(n);                          //n\n",
        "    for (int i = 0; i < n; ++i) {                         //2 + 2n\n",
        "        std::cin >> numbers[i];                           //n\n",
        "    }\n",
        "\n",
        "    std::cout << MaxPairwiseProduct(numbers) << \"\\n\";     //1 + 1  + 5 + 4n + [2(n-1)n+1, 2.5 (n-1)n) upper bound\n",
        "    return 0;                                             // --------------\n",
        "}                                                         // 11 + 7n + [2(n-1)n+1, 2.5 (n-1)n) upper bound"
      ]
    },
    {
      "cell_type": "code",
      "source": [
        "!g++ max_pairwise_product_long.cpp -o max_pairwise_product_long\n",
        "!time ./max_pairwise_product_long < input11.txt"
      ],
      "metadata": {
        "id": "IW437X8igfOu"
      },
      "execution_count": null,
      "outputs": []
    },
    {
      "cell_type": "code",
      "source": [
        "%%writefile max_pairwise_product_n2_py.py\n",
        "#Python3\n",
        "def max_pairwise_product(l):\n",
        "    max_product = 0\n",
        "    aux_product = 0\n",
        "    n = len(l)\n",
        "    for i in range(n):\n",
        "        for j in range(i + 1, n):\n",
        "            aux_product = l[i] * l[j]\n",
        "            if max_product < aux_product:\n",
        "                max_product = aux_product\n",
        "\n",
        "    return max_product\n",
        "\n",
        "if __name__ == \"__main__\":\n",
        "    n = int(input())\n",
        "    l = list(map(int, input().split()))\n",
        "    print(max_pairwise_product(l))"
      ],
      "metadata": {
        "id": "sedMqOPBjCQE"
      },
      "execution_count": null,
      "outputs": []
    },
    {
      "cell_type": "markdown",
      "source": [
        "ejecucion del cod fuente del algoritmo 2 en python"
      ],
      "metadata": {
        "id": "sJytpifjbl62"
      }
    },
    {
      "cell_type": "code",
      "source": [
        "!python max_pairwise_product_n2_py.py < input11.txt"
      ],
      "metadata": {
        "id": "BZ04TaQmVohJ"
      },
      "execution_count": null,
      "outputs": []
    },
    {
      "cell_type": "markdown",
      "source": [
        "The number of instructions executed by the algorithm with a list of size $n$ is  \n",
        "\n",
        "$$T (n) = 11 + 7n + \\left[2(n-1)n+1, 2.5(n-1)n\\right] \\ \\  \\text{upper bound}$$\n",
        "\n",
        "It depends on the size of the lists and  the order of the list.\n",
        "\n",
        "For the input1.txt\n",
        "```\n",
        "10\n",
        "1 2 3 4 5 6 7 8 9 10\n",
        "```\n",
        "\n",
        "$$T(10) \\in [262, 306] $$"
      ],
      "metadata": {
        "id": "R2FSS_mcozZ0"
      }
    },
    {
      "cell_type": "code",
      "execution_count": null,
      "metadata": {
        "id": "5QWT3fneK8nw"
      },
      "outputs": [],
      "source": [
        "n = 10\n",
        "print(11 + 7*(10) + 2*(10)*(9) + 1, 11 + 7*(10) + 2.5*(10)*(9))"
      ]
    },
    {
      "cell_type": "markdown",
      "source": [
        "For the input11.txt\n",
        "```\n",
        "200000\n",
        "1 2 . . . 199999 200000\n",
        "```\n",
        "\n",
        "$$T(200000) \\in [80001000012, 100000900011] $$"
      ],
      "metadata": {
        "id": "viHzSbrgq2iL"
      }
    },
    {
      "cell_type": "code",
      "execution_count": null,
      "metadata": {
        "id": "mxIVvm1RK8dB"
      },
      "outputs": [],
      "source": [
        "print(11 + 7*(200000) + 2*(200000)*(199999) + 1, 11 + 7*(200000) + 2.5*(200000)*(199999))"
      ]
    },
    {
      "cell_type": "code",
      "source": [
        "#ins\n",
        "estimated_time = 195 / 100000900009\n",
        "estimated_time"
      ],
      "metadata": {
        "id": "es-PE7C0s3dA"
      },
      "execution_count": null,
      "outputs": []
    },
    {
      "cell_type": "code",
      "source": [
        "#ins per sec (aprox.)\n",
        "ins_per_sec =  1 / estimated_time\n",
        "ins_per_sec"
      ],
      "metadata": {
        "id": "fvf98KE4tG-5"
      },
      "execution_count": null,
      "outputs": []
    },
    {
      "cell_type": "markdown",
      "source": [
        "###Correctness tests"
      ],
      "metadata": {
        "id": "Z20oTicenhn8"
      }
    },
    {
      "cell_type": "code",
      "source": [
        "%%writefile stress_test.sh\n",
        "#!/bin/bash\n",
        "g++ max_pairwise_product_long.cpp -o max_pairwise_product_long\n",
        "\n",
        "for i in {0..10}\n",
        "do\n",
        "    ./max_pairwise_product_long < input$i.txt > ctest$i.txt\n",
        "    grep -xvFf output$i.txt ctest$i.txt\n",
        "done"
      ],
      "metadata": {
        "id": "wccQOvNsnFN7"
      },
      "execution_count": null,
      "outputs": []
    },
    {
      "cell_type": "code",
      "source": [
        "!./stress_test.sh"
      ],
      "metadata": {
        "id": "RQ1o3mpcnq_7"
      },
      "execution_count": null,
      "outputs": []
    },
    {
      "cell_type": "code",
      "source": [
        "%%writefile stress_test.sh\n",
        "#!/bin/bash\n",
        "\n",
        "for i in {0..10}\n",
        "do\n",
        "    python3 max_pairwise_product_n2_py.py < input$i.txt > ptest$i.txt\n",
        "    grep -xvFf output$i.txt ptest$i.txt\n",
        "done"
      ],
      "metadata": {
        "id": "BvXSA7EgnQKa"
      },
      "execution_count": null,
      "outputs": []
    },
    {
      "cell_type": "code",
      "source": [
        "!./stress_test.sh"
      ],
      "metadata": {
        "id": "yfezcJexn2Yc"
      },
      "execution_count": null,
      "outputs": []
    },
    {
      "cell_type": "markdown",
      "source": [
        "###Estimated maximum that can be solved in 1 second\n",
        "$$(11 + 7n + 2.5(n-1)n)*1.47*10^{-9} = 1s$$\n",
        "$$ n \\approx 16400 $$"
      ],
      "metadata": {
        "id": "O3Z4WhpvkF2i"
      }
    },
    {
      "cell_type": "code",
      "source": [
        "# Verify input13.txt\n",
        "%%writefile WriteTest.cpp\n",
        "\n",
        "#include <iostream>\n",
        "#include <fstream>\n",
        "#include <cstdlib>\n",
        "\n",
        "using namespace std;\n",
        "\n",
        "int main() {\n",
        "  // Create and open a text file\n",
        "  ofstream MyFile(\"input13.txt\");\n",
        "\n",
        " MyFile << 16400 <<\"\\n\";  // n\n",
        " for (int i=1; i <16401; i++){\n",
        "     MyFile << i <<\" \";\n",
        " }\n",
        "\n",
        "  // Close the file\n",
        "  MyFile.close();\n",
        "}"
      ],
      "metadata": {
        "id": "8T3ug0j2lPB5"
      },
      "execution_count": null,
      "outputs": []
    },
    {
      "cell_type": "code",
      "source": [
        "!g++ WriteTest.cpp -o WriteTest\n",
        "!./WriteTest"
      ],
      "metadata": {
        "id": "XDO-TfONlWrz"
      },
      "execution_count": null,
      "outputs": []
    },
    {
      "cell_type": "code",
      "source": [
        "!g++ max_pairwise_product_long.cpp -o max_pairwise_product_long\n",
        "!time ./max_pairwise_product_long < input13.txt"
      ],
      "metadata": {
        "id": "o9h6y4UHlhZg"
      },
      "execution_count": null,
      "outputs": []
    },
    {
      "cell_type": "code",
      "source": [
        "%%writefile WriteTestPython.py\n",
        "#Python3\n",
        "if __name__ == \"__main__\":\n",
        "    with open(\"input14.txt\", \"w\") as f:\n",
        "        f.write(\"16400\\n\")\n",
        "        for i in range(1, 16401):\n",
        "            f.write(f\"{i} \")"
      ],
      "metadata": {
        "id": "HF46Xcpwlwqn"
      },
      "execution_count": null,
      "outputs": []
    },
    {
      "cell_type": "code",
      "source": [
        "!python WriteTestPython.py"
      ],
      "metadata": {
        "id": "hJR_E1A3lziq"
      },
      "execution_count": null,
      "outputs": []
    },
    {
      "cell_type": "code",
      "source": [
        "#Slower. Not a surprise.\n",
        "%%time\n",
        "!python max_pairwise_product_n2_py.py < input14.txt"
      ],
      "metadata": {
        "id": "ySya5DKhl7H_"
      },
      "execution_count": null,
      "outputs": []
    },
    {
      "cell_type": "markdown",
      "metadata": {
        "id": "1Hsbd-uHOb_j"
      },
      "source": [
        "### Sort solution in C++ and Python\n",
        "\n",
        "$$ O(n \\lg n)$$\n",
        "\n",
        "**Which sorting algorithm is used in GCC?**\n",
        "https://stackoverflow.com/questions/7221257/which-sorting-algorithm-is-used-in-gcc\n",
        "\n",
        "* ...  the algorithm is called introsort, a combination between Insertionsort, Quicksort & Heapsort. ...\n",
        "\n",
        "**Introsort**\n",
        "https://en.wikipedia.org/wiki/Introsort\n",
        "\n",
        "Introsort or introspective sort is a hybrid sorting algorithm that provides both fast average performance and (asymptotically) optimal worst-case performance. It begins with quicksort, it switches to heapsort when the recursion depth exceeds a level based on (the logarithm of) the number of elements being sorted and it switches to insertion sort when the number of elements is below some threshold\n",
        "\n",
        "*   Class\tSorting algorithm\n",
        "*   Data structure\tArray\n",
        "*   Worst-case performance\t$O(n \\lg n)$\n",
        "*   Average performance\t$O(n \\lg n)$\n",
        "\n",
        "**Tinsort**\n",
        "https://en.wikipedia.org/wiki/Timsort\n",
        "\n",
        "Timsort is a hybrid, stable sorting algorithm, derived from merge sort and insertion sort, designed to perform well on many kinds of real-world data. It was implemented by Tim Peters in 2002 for use in the Python programming language.\n",
        "\n",
        "*   Class\tSorting algorithm\n",
        "*   Data structure\tArray\n",
        "*   Worst-case performance\t$O(n \\lg n)$\n",
        "*   Best-case performance $O(n)$\n",
        "*   Average performance\t$O(n \\lg n)$\n",
        "*   Worst-case space complexity $O(n)$"
      ]
    },
    {
      "cell_type": "markdown",
      "metadata": {
        "id": "WMUthAXjOb_k"
      },
      "source": [
        "Add in each line a coment with the number of intstrcution that are executed in that line"
      ]
    },
    {
      "cell_type": "markdown",
      "source": [
        "algoritmo 3, el cual toma la lista de elementos y aplica un ordenamiento ascendente, por lo tanto, para obtener el producto mas grande debemos considerar los dos últimos valores de la lista."
      ],
      "metadata": {
        "id": "amQ0ayNCeeBa"
      }
    },
    {
      "cell_type": "code",
      "execution_count": null,
      "metadata": {
        "id": "2-sXOmqFOb_k"
      },
      "outputs": [],
      "source": [
        "%%writefile max_pairwise_product_sort.cpp\n",
        "#include <iostream>\n",
        "#include <vector>\n",
        "#include <algorithm>\n",
        "\n",
        "int main(int argc, char* argv[]){\n",
        "    int n;                                                   //1\n",
        "    std::cin >> n;                                           //1\n",
        "    std::vector<int> v(n);                                   //n\n",
        "    for(int i = 0; i < n; i++){                              //1 + 2n\n",
        "        std::cin >> v[i];                                    //n\n",
        "    }\n",
        "\n",
        "    std::sort(v.begin(), v.end());                          //nlogn\n",
        "    std::cout << (long long) v[n - 1] * v[n - 2] << '\\n';   //2\n",
        "    return 0;\n",
        "}"
      ]
    },
    {
      "cell_type": "code",
      "source": [
        "%%writefile max_pairwise_product_sort.py\n",
        "#Python3\n",
        "if __name__ == \"__main__\":\n",
        "    n = int(input())                                        #1\n",
        "    l = list(map(int, input().split()))                     #5n\n",
        "    l.sort()                                                #nlogn at least\n",
        "    print(l[-1] * l[-2])                              #2"
      ],
      "metadata": {
        "id": "iBmnMSrYbXBq"
      },
      "execution_count": null,
      "outputs": []
    },
    {
      "cell_type": "markdown",
      "metadata": {
        "id": "v8pdV9ABOb_k"
      },
      "source": [
        "Test with inputs 1 and 2\n",
        "\n"
      ]
    },
    {
      "cell_type": "code",
      "execution_count": null,
      "metadata": {
        "id": "kdXAyLG4Ob_k"
      },
      "outputs": [],
      "source": [
        "!g++ max_pairwise_product_sort.cpp -o max_pairwise_product_sort\n",
        "!./max_pairwise_product_sort < input1.txt   #Original array in input1.txt increasing order [1, 2, 3, 4, 5, 6, 7, 8, 9, 10]\n",
        "!./max_pairwise_product_sort < input2.txt   #Original array in input2.txt decreasing order [10, 9, 8, 7, 6, 5, 4, 3, 2, 1]"
      ]
    },
    {
      "cell_type": "code",
      "source": [
        "!python max_pairwise_product_sort.py < input1.txt\n",
        "!python max_pairwise_product_sort.py < input2.txt"
      ],
      "metadata": {
        "id": "mROvPLDGeCn4"
      },
      "execution_count": null,
      "outputs": []
    },
    {
      "cell_type": "markdown",
      "metadata": {
        "id": "Sw-5X1q1Ob_k"
      },
      "source": [
        "Test and time it with input 3"
      ]
    },
    {
      "cell_type": "code",
      "execution_count": null,
      "metadata": {
        "id": "ryHJ30WIOb_k"
      },
      "outputs": [],
      "source": [
        "!g++ max_pairwise_product_sort.cpp -o max_pairwise_product_sort\n",
        "!time ./max_pairwise_product_sort < input3.txt"
      ]
    },
    {
      "cell_type": "code",
      "source": [
        "%%time\n",
        "#Given in secs. *10^-3 ms\n",
        "!python max_pairwise_product_sort.py < input3.txt"
      ],
      "metadata": {
        "id": "n7Svevx-eE6t"
      },
      "execution_count": null,
      "outputs": []
    },
    {
      "cell_type": "markdown",
      "metadata": {
        "id": "oJGdPl1HOb_k"
      },
      "source": [
        "20 stress tests"
      ]
    },
    {
      "cell_type": "code",
      "execution_count": null,
      "metadata": {
        "id": "pXHtO1dEOb_k"
      },
      "outputs": [],
      "source": [
        "%%writefile stress_test_cpp.cpp\n",
        "#include <iostream>\n",
        "#include <vector>\n",
        "#include <algorithm>\n",
        "\n",
        "int main(int argc, char* argv[]){\n",
        "    for(int i = 0; i < 20; i++){\n",
        "      // obtener un valor aleatorio n para el tamaño de la lista entre 2 y 50\n",
        "        int n = rand() % 49 + 2;\n",
        "        std::vector<int> v(n);\n",
        "      // obtenemos los n valores para llenar el arreglo (valores entre 2 y 1001)\n",
        "        for(int i = 0; i < n; i++){\n",
        "            v[i] = rand() % 1000 + 2;\n",
        "        }\n",
        "      // ordenamiento del arreglo de manera ascendente\n",
        "        std::sort(v.begin(), v.end());\n",
        "      // multiplicacion del ultimo y penultimo valor\n",
        "        std::cout << \"test \" << i+1 << \", list size, n: \" << n << \", max product: \" << (long long) v[n - 1] * v[n - 2] << '\\n';\n",
        "    }\n",
        "    return 0;\n",
        "}"
      ]
    },
    {
      "cell_type": "code",
      "source": [
        "!g++ stress_test_cpp.cpp -o stress_test_cpp\n",
        "!./stress_test_cpp"
      ],
      "metadata": {
        "id": "NQcy13O-oU80"
      },
      "execution_count": null,
      "outputs": []
    },
    {
      "cell_type": "code",
      "source": [
        "%%writefile stress_tests_sort_py.py\n",
        "#Python3\n",
        "import random\n",
        "if __name__ == \"__main__\":\n",
        "    for i in range(20):\n",
        "        # generar el tamaño de la lista\n",
        "        n = random.randint(2, 101)\n",
        "        # llenar la lista con los n valores generados aleatoreos\n",
        "        l = [ random.randint(10, 10001) for i in range(n) ]\n",
        "        # ordenamos la lista de manera ascendente\n",
        "        l.sort()\n",
        "        print(f\"test {i+1}, list size, n: {n}, max_product: {l[-1] * l[-2]}\")"
      ],
      "metadata": {
        "id": "FFMy7NjFV0gX"
      },
      "execution_count": null,
      "outputs": []
    },
    {
      "cell_type": "code",
      "source": [
        "!python stress_tests_sort_py.py"
      ],
      "metadata": {
        "id": "cHcM2-gKV8D5"
      },
      "execution_count": null,
      "outputs": []
    },
    {
      "cell_type": "markdown",
      "metadata": {
        "id": "2beTmWFPOb_k"
      },
      "source": [
        "Count executed instructions in code and verify with inputs 1,2 and 3\n"
      ]
    },
    {
      "cell_type": "code",
      "execution_count": null,
      "metadata": {
        "id": "iuByv4x1Ob_k"
      },
      "outputs": [],
      "source": [
        "%%writefile max_pairwise_product_sort_ins.cpp\n",
        "#include <iostream>\n",
        "#include <vector>\n",
        "#include <algorithm>\n",
        "#include <cmath>\n",
        "\n",
        "int main(int argc, char* argv[]){\n",
        "    uint64_t ins = 0;\n",
        "    int n;                                                   //1\n",
        "    ins++;\n",
        "    std::cin >> n;                                           //1\n",
        "    ins++;\n",
        "    std::vector<uint64_t> v(n);                                   //n\n",
        "    ins += n;\n",
        "    ins++;\n",
        "    for(int i = 0; i < n; i++){                              //1 + 2n\n",
        "        ins += 2;\n",
        "        std::cin >> v[i];                                    //n\n",
        "        ins++;\n",
        "    }\n",
        "\n",
        "    std::sort(v.begin(), v.end());                           //nlogn at least (nlogn time complexity)\n",
        "    ins += n * log2(n);\n",
        "    std::cout << (long long) v[n - 1] * v[n - 2] << '\\n';    //3\n",
        "    ins += 3;\n",
        "    std::cout << \"Executed instructions: \" << ins << '\\n';   // 7 + 4n + ins(nlogn sort). Where ins(nlogn sort) are, at least, nlogn.\n",
        "    return 0;\n",
        "}"
      ]
    },
    {
      "cell_type": "code",
      "source": [
        "!g++ max_pairwise_product_sort_ins.cpp -o max_pairwise_product_sort_ins\n",
        "!./max_pairwise_product_sort_ins < input1.txt\n",
        "!./max_pairwise_product_sort_ins < input2.txt\n",
        "!./max_pairwise_product_sort_ins < input3.txt"
      ],
      "metadata": {
        "id": "19hkfZG9ookj"
      },
      "execution_count": null,
      "outputs": []
    },
    {
      "cell_type": "code",
      "source": [
        "!time ./max_pairwise_product_sort_ins < input11.txt"
      ],
      "metadata": {
        "id": "MzLtK1RDVEvo"
      },
      "execution_count": null,
      "outputs": []
    },
    {
      "cell_type": "code",
      "source": [
        "%%writefile max_pairwise_product_sort_ins.py\n",
        "#Python3\n",
        "import math\n",
        "\n",
        "if __name__ == \"__main__\":\n",
        "    ins = 0\n",
        "    n = int(input())                       #1\n",
        "    ins += 1\n",
        "    l = list(map(int, input().split()))    #5n (n input read, n mappings to int, n iterable to list, n comparisons, n splits through input)\n",
        "    ins += 5 * n\n",
        "    l.sort()                               #nlogn at least\n",
        "    ins += n * math.log2(n)\n",
        "    print(l[-1] * l[-2])             #2\n",
        "    ins += 2\n",
        "    print(f\"Executed instructions: {int(ins)}\\n\")                             #3 + 5n + ins(nlogn timsort) where ins(nlogn sort) are, at least, nlogn."
      ],
      "metadata": {
        "id": "xFDQvHsDwPGL"
      },
      "execution_count": null,
      "outputs": []
    },
    {
      "cell_type": "code",
      "source": [
        "!python max_pairwise_product_sort_ins.py < input1.txt\n",
        "!python max_pairwise_product_sort_ins.py < input2.txt\n",
        "!python max_pairwise_product_sort_ins.py < input3.txt"
      ],
      "metadata": {
        "id": "T7zTUq_tywBk"
      },
      "execution_count": null,
      "outputs": []
    },
    {
      "cell_type": "code",
      "source": [
        "%%time\n",
        "!python max_pairwise_product_sort_ins.py < input11.txt"
      ],
      "metadata": {
        "id": "tDDZwGhxSBLY"
      },
      "execution_count": null,
      "outputs": []
    },
    {
      "cell_type": "markdown",
      "metadata": {
        "id": "x2CXhkwTOb_l"
      },
      "source": [
        "Calculate estimated time by instruction and number of instructions by second"
      ]
    },
    {
      "cell_type": "code",
      "execution_count": null,
      "metadata": {
        "id": "nTjxyTMtOb_l"
      },
      "outputs": [],
      "source": [
        "#following result of input3.txt. #lower bound. Needs to know the exact number of instructions in each sorting algorithm. Just counts the ones in the nlogn step.\n",
        "#Estimaded time by instruction and number of instructions\n",
        "estimated_time = 0.009 / 4521931\n",
        "number_of_ins_per_second = 1 / estimated_time\n",
        "print(estimated_time)\n",
        "print(number_of_ins_per_second)"
      ]
    },
    {
      "cell_type": "markdown",
      "source": [
        "###Estimated maximum that can be solved in 1 second\n",
        "$$(5 + 4n + 5nlog(n))*1.47*10^{-9} = 1s \\ \\ \\ given \\ that \\ nlogn \\ at \\ least$$\n",
        "$$ n \\approx 8'000.000 $$"
      ],
      "metadata": {
        "id": "iZVBA2CRrbId"
      }
    },
    {
      "cell_type": "code",
      "source": [
        "# Verify input13.txt\n",
        "%%writefile WriteTest.cpp\n",
        "#include <iostream>\n",
        "#include <fstream>\n",
        "#include <cstdlib>\n",
        "\n",
        "using namespace std;\n",
        "\n",
        "int main() {\n",
        "  // Create and open a text file\n",
        "  ofstream MyFile(\"input13.txt\");\n",
        "\n",
        " MyFile << 8000000 <<\"\\n\";  // n\n",
        " for (int i=1; i <8000001; i++){\n",
        "     MyFile << i <<\" \";\n",
        " }\n",
        "\n",
        "  // Close the file\n",
        "  MyFile.close();\n",
        "}"
      ],
      "metadata": {
        "id": "_ANyZVzkszDV"
      },
      "execution_count": null,
      "outputs": []
    },
    {
      "cell_type": "code",
      "source": [
        "!g++ WriteTest.cpp -o WriteTest"
      ],
      "metadata": {
        "id": "MOvMM9cos0Cq"
      },
      "execution_count": null,
      "outputs": []
    },
    {
      "cell_type": "code",
      "source": [
        "!./WriteTest"
      ],
      "metadata": {
        "id": "0jQMp2BUjbnw"
      },
      "execution_count": null,
      "outputs": []
    },
    {
      "cell_type": "code",
      "source": [
        "!g++ max_pairwise_product_sort.cpp -o max_pairwise_product_sort\n",
        "!time ./max_pairwise_product_sort < input13.txt"
      ],
      "metadata": {
        "id": "UVPO7cKFs-vK"
      },
      "execution_count": null,
      "outputs": []
    },
    {
      "cell_type": "code",
      "source": [
        "%%writefile WriteTestPython.py\n",
        "#Python3\n",
        "if __name__ == \"__main__\":\n",
        "    with open(\"input16.txt\", \"w\") as f:\n",
        "        f.write(\"8000000\\n\")\n",
        "        for i in range(1, 8000001):\n",
        "            f.write(f\"{i} \")"
      ],
      "metadata": {
        "id": "0Op_ffhItKtb"
      },
      "execution_count": null,
      "outputs": []
    },
    {
      "cell_type": "code",
      "source": [
        "!python WriteTestPython.py"
      ],
      "metadata": {
        "id": "DwH9zoPutLEa"
      },
      "execution_count": null,
      "outputs": []
    },
    {
      "cell_type": "code",
      "source": [
        "#Finally..\n",
        "%%time\n",
        "!python max_pairwise_product_sort.py < input13.txt"
      ],
      "metadata": {
        "id": "ZnbJoOtrtUn5"
      },
      "execution_count": null,
      "outputs": []
    },
    {
      "cell_type": "markdown",
      "source": [
        "###Correctness Tests"
      ],
      "metadata": {
        "id": "HqYGh5YnuJFD"
      }
    },
    {
      "cell_type": "code",
      "source": [
        "%%writefile stress_test.sh\n",
        "#!/bin/bash\n",
        "g++ max_pairwise_product_sort.cpp -o max_pairwise_product_long\n",
        "\n",
        "for i in {0..10}\n",
        "do\n",
        "    ./max_pairwise_product_sort < input$i.txt > ctest$i.txt\n",
        "    grep -xvFf output$i.txt ctest$i.txt\n",
        "done"
      ],
      "metadata": {
        "id": "Dry5_nlFuMQv"
      },
      "execution_count": null,
      "outputs": []
    },
    {
      "cell_type": "code",
      "source": [
        "!./stress_test.sh"
      ],
      "metadata": {
        "id": "0QKZIQiTuTr1"
      },
      "execution_count": null,
      "outputs": []
    },
    {
      "cell_type": "code",
      "source": [
        "%%writefile stress_test.sh\n",
        "#!/bin/bash\n",
        "\n",
        "for i in {0..10}\n",
        "do\n",
        "    python3 max_pairwise_product_sort.py < input$i.txt > ptest$i.txt\n",
        "    grep -xvFf output$i.txt ctest$i.txt\n",
        "done"
      ],
      "metadata": {
        "id": "rdD08n9_uUAm"
      },
      "execution_count": null,
      "outputs": []
    },
    {
      "cell_type": "code",
      "source": [
        "!./stress_test.sh"
      ],
      "metadata": {
        "id": "FjNADxiFuURV"
      },
      "execution_count": null,
      "outputs": []
    },
    {
      "cell_type": "markdown",
      "metadata": {
        "id": "VMKC5duEOQfk"
      },
      "source": [
        "### Efficient solution largest and second-largest in an list, array or vector in C++ and Python\n",
        " $$2.5 n = O(n)$$\n",
        "\n",
        "\n",
        "\n"
      ]
    },
    {
      "cell_type": "markdown",
      "metadata": {
        "id": "nLcKBwbU0QsE"
      },
      "source": [
        "Add in each line a coment with the number of intstrcution that are executed in that line"
      ]
    },
    {
      "cell_type": "code",
      "execution_count": null,
      "metadata": {
        "id": "knls5Fh3NSt_"
      },
      "outputs": [],
      "source": [
        "%%writefile max_pairwise_product_ef.cpp\n",
        "#include <iostream>\n",
        "#include <vector>\n",
        "#include <algorithm>\n",
        "\n",
        "long long max_pairwise_product_f(std::vector<int>& v){\n",
        "    int n = v.size();                        //1\n",
        "    long long p_max = 0;                     //1\n",
        "    long long s_max = 0;                     //1\n",
        "    for(int i = 0; i < n; ++i) {             //1 + 2n\n",
        "        // actualizacion de los valores mas grande y segundo mas grande\n",
        "        if (v[i] > s_max){                    //n\n",
        "            s_max = v[i];                    //[0, n]\n",
        "        }\n",
        "        if (v[i] > p_max){                   //n\n",
        "            s_max = p_max;                   //[0, n]\n",
        "            p_max = v[i];                    //[0, n]\n",
        "        }\n",
        "    }\n",
        "     // retornamos el producto de los dos valores encontrados\n",
        "    return (long long) p_max * s_max;       //2 -> 9 + 4n + 3[0, n]           //[0, n] means that, in the worst case, executes n times.\n",
        "}\n",
        "\n",
        "int main(int argc, char* argv[]){\n",
        "    int n;                                  //1\n",
        "    // leemos por teclado el tamaño del arreglo\n",
        "    std::cin >> n;                          //1\n",
        "    std::vector<int> v(n);                  //n\n",
        "    // guardamos en el arreglo los n valores solicitandolos por teclado\n",
        "    for(int i = 0; i < n; i++){             //1 + 2n\n",
        "        std::cin >> v[i];                   //n\n",
        "    }\n",
        "    std::cout << max_pairwise_product_f(v) << '\\n'; //1 -> 4 + 4n\n",
        "    return 0;\n",
        "}"
      ]
    },
    {
      "cell_type": "code",
      "source": [
        "%%writefile max_pairwise_product_ef.py\n",
        "#Python3\n",
        "def max_pairwise_product_f(l):\n",
        "    p_max = 0\n",
        "    s_max = 0\n",
        "    for i in l:\n",
        "        if i > s_max:\n",
        "            s_max = i\n",
        "        if i > p_max:\n",
        "            s_max = p_max\n",
        "            p_max = i\n",
        "\n",
        "    return p_max * s_max\n",
        "\n",
        "if __name__ == \"__main__\":\n",
        "    n = int(input())\n",
        "    l = list(map(int, input().split()))\n",
        "    print(max_pairwise_product_f(l))"
      ],
      "metadata": {
        "id": "dWuqFv4zwL4t"
      },
      "execution_count": null,
      "outputs": []
    },
    {
      "cell_type": "markdown",
      "metadata": {
        "id": "-JCijbWxNSii"
      },
      "source": [
        "Test with inputs 1 and 2\n",
        "\n"
      ]
    },
    {
      "cell_type": "code",
      "execution_count": null,
      "metadata": {
        "id": "TrTGAfqlNVXT"
      },
      "outputs": [],
      "source": [
        "!g++ max_pairwise_product_ef.cpp -o max_pairwise_product_ef\n",
        "!./max_pairwise_product_ef < input1.txt\n",
        "!./max_pairwise_product_ef < input2.txt"
      ]
    },
    {
      "cell_type": "code",
      "source": [
        "!python max_pairwise_product_ef.py < input1.txt\n",
        "!python max_pairwise_product_ef.py < input2.txt"
      ],
      "metadata": {
        "id": "0gyQXAbHwWfU"
      },
      "execution_count": null,
      "outputs": []
    },
    {
      "cell_type": "markdown",
      "metadata": {
        "id": "PRX51wADNR8b"
      },
      "source": [
        "Test and time it with input 3"
      ]
    },
    {
      "cell_type": "code",
      "execution_count": null,
      "metadata": {
        "id": "v4z7-Is_NRt7"
      },
      "outputs": [],
      "source": [
        "!g++ max_pairwise_product_ef.cpp -o max_pairwise_product_ef\n",
        "!time ./max_pairwise_product_ef < input3.txt"
      ]
    },
    {
      "cell_type": "code",
      "source": [
        "!g++ max_pairwise_product_ef.cpp -o max_pairwise_product_ef\n",
        "!time ./max_pairwise_product_ef < input11.txt"
      ],
      "metadata": {
        "id": "gjXEfBrpniok"
      },
      "execution_count": null,
      "outputs": []
    },
    {
      "cell_type": "code",
      "source": [
        "%%time\n",
        "!python max_pairwise_product_ef.py < input3.txt"
      ],
      "metadata": {
        "id": "17wK0qEawmHj"
      },
      "execution_count": null,
      "outputs": []
    },
    {
      "cell_type": "code",
      "source": [
        "%%time\n",
        "!python max_pairwise_product_ef.py < input11.txt"
      ],
      "metadata": {
        "id": "b4OVDDXBwr97"
      },
      "execution_count": null,
      "outputs": []
    },
    {
      "cell_type": "markdown",
      "metadata": {
        "id": "rpdfs0_TNZJf"
      },
      "source": [
        "20 stress tests"
      ]
    },
    {
      "cell_type": "code",
      "execution_count": null,
      "metadata": {
        "id": "Lu4tYcKzNcTT"
      },
      "outputs": [],
      "source": [
        "%%writefile stress_tests_ef_cpp.cpp\n",
        "#include <iostream>\n",
        "#include <vector>\n",
        "#include <algorithm>\n",
        "\n",
        "long long ins = 0;\n",
        "\n",
        "long long max_pairwise_product_f(std::vector<int>& v){\n",
        "    int n = v.size();\n",
        "    ins++;\n",
        "    long long p_max = 0;\n",
        "    ins++;\n",
        "    long long s_max = 0;\n",
        "    ins++;\n",
        "    ins++;\n",
        "    for(int i = 0; i < n; ++i) {\n",
        "        ins += 2;\n",
        "        ins++;\n",
        "        if (v[i] > s_max){\n",
        "            s_max = v[i];\n",
        "            ins++;\n",
        "        }\n",
        "        ins++;\n",
        "        if (v[i] > p_max){\n",
        "            s_max = p_max;\n",
        "            ins++;\n",
        "            p_max = v[i];\n",
        "            ins++;\n",
        "        }\n",
        "    }\n",
        "\n",
        "    return (long long) p_max * s_max;\n",
        "}\n",
        "\n",
        "int main(int argc, char* argv[]){\n",
        "\n",
        "  // 20 casos de prueba\n",
        "    for(int i = 0; i < 20; i++){\n",
        "      // tamaño de la lista entre 2 - 70\n",
        "        int n = rand() % 69 + 2;\n",
        "        std::vector<int> v(n);\n",
        "        for(int i = 0; i < n; i++){\n",
        "          // llenado del arreglo con n valores aleatorios entre 2 - 1001\n",
        "            v[i] = rand() % 1000 + 2;\n",
        "        }\n",
        "        std::cout << \"n: \" << n << \" Product: \" << max_pairwise_product_f(v) << '\\n';\n",
        "    }\n",
        "    return 0;\n",
        "}"
      ]
    },
    {
      "cell_type": "code",
      "source": [
        "%%writefile stress_tests_ef_py.py\n",
        "#Python3\n",
        "import random\n",
        "def max_pairwise_product_f(l):\n",
        "    p_max = 0\n",
        "    s_max = 0\n",
        "    for i in l:\n",
        "        if i > s_max:\n",
        "            s_max = i\n",
        "        if i > p_max:\n",
        "            s_max = p_max\n",
        "            p_max = i\n",
        "\n",
        "    return p_max * s_max\n",
        "\n",
        "if __name__ == \"__main__\":\n",
        "    for i in range(20):\n",
        "        n = random.randint(2, 99)\n",
        "        l = [random.randint(17, 24531) for i in range(n)]\n",
        "        print(f\"n: {n} Product: {max_pairwise_product_f(l)}\")"
      ],
      "metadata": {
        "id": "IO6NtSvKw0xa"
      },
      "execution_count": null,
      "outputs": []
    },
    {
      "cell_type": "code",
      "source": [
        "!g++ stress_tests_ef_cpp.cpp -o stress_tests_ef_cpp\n",
        "!./stress_tests_ef_cpp"
      ],
      "metadata": {
        "id": "xURZHzxiUbl_"
      },
      "execution_count": null,
      "outputs": []
    },
    {
      "cell_type": "code",
      "source": [
        "!python stress_tests_ef_py.py"
      ],
      "metadata": {
        "id": "z75Tz0Blxkfg"
      },
      "execution_count": null,
      "outputs": []
    },
    {
      "cell_type": "markdown",
      "metadata": {
        "id": "L8U4151JNbxk"
      },
      "source": [
        "Count executed instructions in code and verify with inputs 1,2 and 3\n"
      ]
    },
    {
      "cell_type": "code",
      "execution_count": null,
      "metadata": {
        "id": "dh85RM8vNhFz"
      },
      "outputs": [],
      "source": [
        "%%writefile max_pairwise_product_ef_ins.cpp\n",
        "#include <iostream>\n",
        "#include <vector>\n",
        "#include <algorithm>\n",
        "\n",
        "long long ins = 0;\n",
        "\n",
        "long long max_pairwise_product_f(std::vector<int>& v){\n",
        "    int n = v.size();                        //1\n",
        "    ins++;\n",
        "    long long p_max = 0;                     //1\n",
        "    ins++;\n",
        "    long long s_max = 0;                     //1\n",
        "    ins++;\n",
        "    ins++;\n",
        "    for(int i = 0; i < n; ++i) {             //1 + 2n\n",
        "        ins += 2;\n",
        "        ins++;\n",
        "        if (v[i] > s_max){                    //n\n",
        "            s_max = v[i];                     //[0, n]\n",
        "            ins++;\n",
        "        }\n",
        "        ins++;\n",
        "        if (v[i] > p_max){                   //n\n",
        "            s_max = p_max;                   //[0, n]\n",
        "            ins++;\n",
        "            p_max = v[i];                    //[0, n]\n",
        "            ins++;\n",
        "        }\n",
        "    }\n",
        "    ins += 2;\n",
        "    return (long long) p_max * s_max;       //2 -> 6 + 4n + 3[0, n]          //[0, n] means that, in the worst case, executes n times.\n",
        "}\n",
        "\n",
        "int main(int argc, char* argv[]){\n",
        "    int n;                                  //1\n",
        "    ins++;\n",
        "    std::cin >> n;                          //1\n",
        "    ins++;\n",
        "    std::vector<int> v(n);                  //n\n",
        "    ins += n;\n",
        "    ins++;\n",
        "    for(int i = 0; i < n; i++){             //1 + 2n\n",
        "        ins += 2;\n",
        "        std::cin >> v[i];                   //n\n",
        "        ins++;\n",
        "    }\n",
        "\n",
        "    std::cout << max_pairwise_product_f(v) << '\\n'; //1 -> 4 + 4n + 6 + 4n + 3[0, n] -> 10 +8n + 3[0, n] -> 10 + 11n worst case.\n",
        "    std::cout << \"Executed instructions: \" << ins << '\\n';\n",
        "    return 0;\n",
        "}"
      ]
    },
    {
      "cell_type": "code",
      "source": [
        "%%writefile max_pairwise_product_ef_ins_py.py\n",
        "#Python3\n",
        "ins = 0\n",
        "def max_pairwise_product_f(l):\n",
        "    global ins\n",
        "    p_max = 0                               #1\n",
        "    ins += 1\n",
        "    s_max = 0                               #1\n",
        "    ins += 1\n",
        "    ins += 1\n",
        "    for i in l:                             #1 + 2n\n",
        "        ins += 2\n",
        "        if i > s_max:                       #n\n",
        "            s_max = i                       #[0, n]           #[0, n] means that, in the worst case, executes n times\n",
        "            ins += 1\n",
        "        if i > p_max:                       #n\n",
        "            s_max = p_max                   #[0, n]\n",
        "            ins += 1\n",
        "            p_max = i                       #[0, n]\n",
        "            ins += 1\n",
        "\n",
        "    ins += 2\n",
        "    return p_max * s_max                    #2       #5 + 4n + 3[0, n] -> 5 + 7n worst\n",
        "\n",
        "if __name__ == \"__main__\":\n",
        "        n = int(input())                                 #1\n",
        "        ins += 1\n",
        "        l = list(map(int, input().split()))              #5n\n",
        "        ins += 5 * n\n",
        "        ins += 1\n",
        "        print(max_pairwise_product_f(l))                 #1\n",
        "        print(f\"Executed instructions: {ins}\")           #-> 2 + 5n + 5 + 7n -> 7 + 12n"
      ],
      "metadata": {
        "id": "g-onFCxpzGFB"
      },
      "execution_count": null,
      "outputs": []
    },
    {
      "cell_type": "code",
      "source": [
        "!g++ max_pairwise_product_ef_ins.cpp -o max_pairwise_product_ef_ins\n",
        "!./max_pairwise_product_ef_ins < input1.txt\n",
        "!./max_pairwise_product_ef_ins < input2.txt\n",
        "!./max_pairwise_product_ef_ins < input3.txt"
      ],
      "metadata": {
        "id": "ozNZsP8QNriY"
      },
      "execution_count": null,
      "outputs": []
    },
    {
      "cell_type": "code",
      "source": [
        "!time ./max_pairwise_product_ef_ins < input11.txt"
      ],
      "metadata": {
        "id": "Bt8EmEvERn8r"
      },
      "execution_count": null,
      "outputs": []
    },
    {
      "cell_type": "code",
      "source": [
        "!python max_pairwise_product_ef_ins_py.py < input1.txt\n",
        "!python max_pairwise_product_ef_ins_py.py < input2.txt"
      ],
      "metadata": {
        "id": "Qe8pVVz60IL0"
      },
      "execution_count": null,
      "outputs": []
    },
    {
      "cell_type": "code",
      "source": [
        "%%time\n",
        "!python max_pairwise_product_ef_ins_py.py < input3.txt"
      ],
      "metadata": {
        "id": "i8vflVin0eZt"
      },
      "execution_count": null,
      "outputs": []
    },
    {
      "cell_type": "code",
      "source": [
        "%%time\n",
        "!python max_pairwise_product_ef_ins_py.py < input11.txt"
      ],
      "metadata": {
        "id": "dzF0FUhK0jXk"
      },
      "execution_count": null,
      "outputs": []
    },
    {
      "cell_type": "markdown",
      "metadata": {
        "id": "K6ybgCmpNygr"
      },
      "source": [
        "Calculate estimated time by instruction and number of instructions by second"
      ]
    },
    {
      "cell_type": "code",
      "execution_count": null,
      "metadata": {
        "id": "kwe3G1O3Nz1w"
      },
      "outputs": [],
      "source": [
        "estimated_time = 0.006/ 2200009\n",
        "number_of_ins_per_second = 1 / estimated_time\n",
        "print(estimated_time)\n",
        "print(number_of_ins_per_second)"
      ]
    },
    {
      "cell_type": "markdown",
      "source": [
        "###Correctness Tests"
      ],
      "metadata": {
        "id": "uKzayvzd3oXr"
      }
    },
    {
      "cell_type": "markdown",
      "source": [
        "script para probar la salida esperada con la salida obtenida en el algoritmo eficiente en c++"
      ],
      "metadata": {
        "id": "qlHMKMjmn9k4"
      }
    },
    {
      "cell_type": "code",
      "source": [
        "%%writefile stress_test.sh\n",
        "#!/bin/bash\n",
        "g++ max_pairwise_product_ef.cpp -o max_pairwise_product_ef_cpp\n",
        "\n",
        "for i in {0..10}\n",
        "do\n",
        "    ./max_pairwise_product_ef_cpp < input$i.txt > ctest$i.txt\n",
        "    grep -xvFf output$i.txt ctest$i.txt\n",
        "done"
      ],
      "metadata": {
        "id": "9tO11BNw3n_X"
      },
      "execution_count": null,
      "outputs": []
    },
    {
      "cell_type": "code",
      "source": [
        "!./stress_test.sh"
      ],
      "metadata": {
        "id": "U0WYM__47QFm"
      },
      "execution_count": null,
      "outputs": []
    },
    {
      "cell_type": "markdown",
      "source": [
        "script para probar la salida esperada con la salida obtenida en el algoritmo eficiente en python"
      ],
      "metadata": {
        "id": "f9_Mmu0roFxe"
      }
    },
    {
      "cell_type": "code",
      "source": [
        "%%writefile stress_test.sh\n",
        "#!/bin/bash\n",
        "\n",
        "for i in {0..10}\n",
        "do\n",
        "    python3 max_pairwise_product_ef.py < input$i.txt > ptest$i.txt\n",
        "    grep -xvFf output$i.txt ptest$i.txt\n",
        "done"
      ],
      "metadata": {
        "id": "Sg-kN7wF7fXt"
      },
      "execution_count": null,
      "outputs": []
    },
    {
      "cell_type": "code",
      "source": [
        "!./stress_test.sh"
      ],
      "metadata": {
        "id": "AnTxWWxH72bR"
      },
      "execution_count": null,
      "outputs": []
    },
    {
      "cell_type": "markdown",
      "source": [
        "###Estimated maximum that can be solved in 1 second\n",
        "$$(10 + 11n)*1.47*10^{-9} = 1s$$\n",
        "$$ n \\approx 60'000.000 $$"
      ],
      "metadata": {
        "id": "Guchsf95vyjc"
      }
    },
    {
      "cell_type": "code",
      "source": [
        "%%writefile WriteTest.cpp\n",
        "\n",
        "#include <iostream>\n",
        "#include <fstream>\n",
        "#include <cstdlib>\n",
        "\n",
        "using namespace std;\n",
        "\n",
        "int main() {\n",
        "  // Create and open a text file\n",
        "  ofstream MyFile(\"input15.txt\");\n",
        "\n",
        " MyFile << 60000000 <<\"\\n\";  // n\n",
        " for (int i=1; i <60000001; i++){\n",
        "     MyFile << i <<\" \";\n",
        " }\n",
        "\n",
        "  // Close the file\n",
        "  MyFile.close();\n",
        "}"
      ],
      "metadata": {
        "id": "E_zzE8QcwPO6"
      },
      "execution_count": null,
      "outputs": []
    },
    {
      "cell_type": "code",
      "source": [
        "!g++ WriteTest.cpp -o WriteTest\n",
        "!./WriteTest"
      ],
      "metadata": {
        "id": "n_RkSbUgwZVj"
      },
      "execution_count": null,
      "outputs": []
    },
    {
      "cell_type": "code",
      "source": [
        "!g++ max_pairwise_product_ef.cpp -o max_pairwise_product_ef_cpp"
      ],
      "metadata": {
        "id": "SNexsL8CwaYR"
      },
      "execution_count": null,
      "outputs": []
    },
    {
      "cell_type": "code",
      "source": [
        "!time ./max_pairwise_product_ef_cpp < input15.txt #This gives the \"practical\" time instead of the theoretical one (1s). The \"real\" constants are way bigger."
      ],
      "metadata": {
        "id": "3QN3h6DFwa26"
      },
      "execution_count": null,
      "outputs": []
    },
    {
      "cell_type": "code",
      "source": [
        "%%writefile WriteTestPython.py\n",
        "#Python3\n",
        "if __name__ == \"__main__\":\n",
        "    with open(\"input14.txt\", \"w\") as f:\n",
        "        f.write(\"60000000\\n\")\n",
        "        for i in range(1, 60000001):\n",
        "            f.write(f\"{i} \")"
      ],
      "metadata": {
        "id": "56dpX8cuwbGm"
      },
      "execution_count": null,
      "outputs": []
    },
    {
      "cell_type": "code",
      "source": [
        "!python WriteTestPython.py"
      ],
      "metadata": {
        "id": "RgdDiKLewbeR"
      },
      "execution_count": null,
      "outputs": []
    },
    {
      "cell_type": "code",
      "source": [
        "%%time\n",
        "!python max_pairwise_product_ef.py < input14.txt #This gives the \"practical\" time instead of the theoretical one (1s). The \"real\" constants are way bigger."
      ],
      "metadata": {
        "id": "euQVUVqC1Cd-"
      },
      "execution_count": null,
      "outputs": []
    },
    {
      "cell_type": "markdown",
      "metadata": {
        "id": "sUpIWcykOGpT"
      },
      "source": [
        "### Super efficient solution\n",
        "\n",
        "Whitout storing the list in memory, only stpring the largest and second largest and whitout calling a function, add in each line a coment with the number of instructions that are executed in that line\n",
        "\n",
        "in C++ and Python\n",
        " $$2 n = O(n)$$"
      ]
    },
    {
      "cell_type": "code",
      "execution_count": null,
      "metadata": {
        "id": "hBLt_xBQLy8E"
      },
      "outputs": [],
      "source": [
        "%%writefile max_pairwise_product_gef_cpp.cpp\n",
        "#include <iostream>\n",
        "#include <vector>\n",
        "#include <algorithm>\n",
        "#include <climits>\n",
        "\n",
        "int main(int argc, char* argv[]){\n",
        "    int n;\n",
        "    std::cin >> n;\n",
        "    int p_max = INT_MIN;\n",
        "    int s_max = INT_MIN;\n",
        "\n",
        "    for (int i = 0; i < n; i++){\n",
        "        int x;\n",
        "        std::cin >> x;\n",
        "        // leemos el dato y acto seguido validamos su tamaño\n",
        "        if(x > p_max){\n",
        "          // guardamos el valor de p_max como el segundo mas grande\n",
        "            s_max = p_max;\n",
        "          // guardamos el valor de x como el primero mas grande\n",
        "            p_max = x;\n",
        "        }\n",
        "        // x no es mas grande que p_max pero si mas grande que s_max\n",
        "        else if(x > s_max){\n",
        "          // actualizacion del segundo mas grande\n",
        "            s_max = x;\n",
        "        }\n",
        "    }\n",
        "\n",
        "    // mostramos en pantalla en producto de los dos valores mas grandes encontrados\n",
        "\n",
        "    std::cout << (long long) p_max * s_max << \"\\n\";\n",
        "    return 0;\n",
        "}"
      ]
    },
    {
      "cell_type": "markdown",
      "metadata": {
        "id": "683gc3roHqzb"
      },
      "source": [
        "Test with inputs 1 and 2\n",
        "\n",
        "\n"
      ]
    },
    {
      "cell_type": "code",
      "execution_count": null,
      "metadata": {
        "id": "b7d4LA8OIc2_"
      },
      "outputs": [],
      "source": [
        "!g++ max_pairwise_product_gef_cpp.cpp -o max_pairwise_product_gef_cpp\n",
        "!./max_pairwise_product_gef_cpp < input1.txt\n",
        "!./max_pairwise_product_gef_cpp < input2.txt"
      ]
    },
    {
      "cell_type": "markdown",
      "metadata": {
        "id": "36Ugn1odIeJz"
      },
      "source": [
        "Test and time it with input 3"
      ]
    },
    {
      "cell_type": "code",
      "execution_count": null,
      "metadata": {
        "id": "jDyMbCnxHqSN"
      },
      "outputs": [],
      "source": [
        "!g++ max_pairwise_product_gef_cpp.cpp -o max_pairwise_product_gef_cpp\n",
        "!time ./max_pairwise_product_gef_cpp < input3.txt"
      ]
    },
    {
      "cell_type": "code",
      "source": [
        "!time ./max_pairwise_product_gef_cpp < input11.txt"
      ],
      "metadata": {
        "id": "aCpKE1kUbxEj"
      },
      "execution_count": null,
      "outputs": []
    },
    {
      "cell_type": "markdown",
      "metadata": {
        "id": "bhqiKQG6fjKM"
      },
      "source": [
        "20 stress tests"
      ]
    },
    {
      "cell_type": "code",
      "execution_count": null,
      "metadata": {
        "id": "2KsiXKhALzwm"
      },
      "outputs": [],
      "source": [
        "%%writefile stress_tests_gef_cpp.cpp\n",
        "#include <iostream>\n",
        "#include <vector>\n",
        "#include <algorithm>\n",
        "#include <climits>\n",
        "\n",
        "int main(int argc, char* argv[]){\n",
        "\n",
        "  // 20 casos de prueba\n",
        "    for(int i = 0; i < 20; i++){\n",
        "\n",
        "      // tamaño de la lista definido desde 2 hasta 78\n",
        "        int n = rand() % 77 + 2;\n",
        "        int p_max = INT_MIN;\n",
        "        int s_max = INT_MIN;\n",
        "\n",
        "      // generacion de los n valores y comparacion con p_max y s_max\n",
        "        for (int i = 0; i < n; i++){\n",
        "          // valores generados desde 2 hasta 1001\n",
        "            int x = rand() % 1000 + 2;\n",
        "          // comparacion con el primero mas grande\n",
        "            if(x > p_max){\n",
        "                s_max = p_max;\n",
        "                p_max = x;\n",
        "            }\n",
        "          // comparacion con el segundo mas grande\n",
        "            else if(x > s_max){\n",
        "                s_max = x;\n",
        "            }\n",
        "        }\n",
        "\n",
        "        std::cout << \"n: \" << n << \" Product: \" << (long long) p_max * s_max << \"\\n\";\n",
        "    }\n",
        "    return 0;\n",
        "}"
      ]
    },
    {
      "cell_type": "code",
      "source": [
        "!g++ stress_tests_gef_cpp.cpp -o stress_tests_gef_cpp\n",
        "!./stress_tests_gef_cpp"
      ],
      "metadata": {
        "id": "l4fgYJdNclLB"
      },
      "execution_count": null,
      "outputs": []
    },
    {
      "cell_type": "markdown",
      "metadata": {
        "id": "fEXj8GHJH5p1"
      },
      "source": [
        "Count executed instructions in code and verify with inputs 1,2 and 3"
      ]
    },
    {
      "cell_type": "code",
      "execution_count": null,
      "metadata": {
        "id": "LF1DHjKXIAsF"
      },
      "outputs": [],
      "source": [
        "%%writefile max_pairwise_product_gef_ins_cpp.cpp\n",
        "#include <iostream>\n",
        "#include <vector>\n",
        "#include <algorithm>\n",
        "#include <climits>\n",
        "\n",
        "int main(int argc, char* argv[]){\n",
        "    uint64_t ins = 0;\n",
        "    int n;                          //1\n",
        "    ins++;\n",
        "    std::cin >> n;                  //1\n",
        "    ins++;\n",
        "    int p_max = INT_MIN;            //1\n",
        "    ins++;\n",
        "    int s_max = INT_MIN;            //1\n",
        "    ins++;\n",
        "    ins++;\n",
        "    for (int i = 0; i < n; i++){    //1 + 2n\n",
        "        ins += 2;\n",
        "        int x;                      //n\n",
        "        ins++;\n",
        "        std::cin >> x;              //n\n",
        "        ins++;\n",
        "        ins += 2; //both ifs\n",
        "        if(x > p_max){              //[0, n]           //[0, n] means that, in the worst case, executes n times.\n",
        "            s_max = p_max;          //[0, n]\n",
        "            ins++;\n",
        "            p_max = x;              //[0, n]\n",
        "            ins++;\n",
        "        }\n",
        "        else if(x > s_max){         //[0, n]\n",
        "            s_max = x;              //[0, n]\n",
        "            ins++;\n",
        "        }\n",
        "    }\n",
        "\n",
        "    ins += 3;\n",
        "    std::cout << (long long) p_max * s_max << \"\\n\"; //3 -> 8 + 4n + 5[0, n] -> 8 + 9n worst case.\n",
        "    std::cout << \"Executed instructions: \" << ins << '\\n';\n",
        "    return 0;\n",
        "}"
      ]
    },
    {
      "cell_type": "code",
      "source": [
        "!g++ max_pairwise_product_gef_ins_cpp.cpp -o max_pairwise_product_gef_ins_cpp\n",
        "!./max_pairwise_product_gef_ins_cpp < input1.txt\n",
        "!./max_pairwise_product_gef_ins_cpp < input2.txt\n",
        "!./max_pairwise_product_gef_ins_cpp < input3.txt"
      ],
      "metadata": {
        "id": "FGUoldbWc2Se"
      },
      "execution_count": null,
      "outputs": []
    },
    {
      "cell_type": "code",
      "source": [
        "!time ./max_pairwise_product_gef_ins_cpp < input11.txt"
      ],
      "metadata": {
        "id": "zcmt1xMOerVO"
      },
      "execution_count": null,
      "outputs": []
    },
    {
      "cell_type": "markdown",
      "metadata": {
        "id": "yae7sSm2IG9U"
      },
      "source": [
        "Calculate estimated time by instruction and number of instructions by second"
      ]
    },
    {
      "cell_type": "code",
      "execution_count": null,
      "metadata": {
        "id": "suouY7BYL2dz"
      },
      "outputs": [],
      "source": [
        "estimated_time = 0.0071 / 1600008\n",
        "number_of_ins_per_second = 1 / estimated_time\n",
        "print(estimated_time)\n",
        "print(number_of_ins_per_second)"
      ]
    },
    {
      "cell_type": "markdown",
      "metadata": {
        "id": "sy33CNNfPxcE"
      },
      "source": [
        "### Super efficient solution in Python\n",
        "\n",
        "Whitout storing the list in memory and whitout calling a function, add in each line a coment with the number of intstrcution that are executed in that line"
      ]
    },
    {
      "cell_type": "code",
      "execution_count": null,
      "metadata": {
        "id": "_mOjJwKrPxcJ"
      },
      "outputs": [],
      "source": [
        "%%writefile max_pairwise_product_gef_py.py\n",
        "#Python3\n",
        "if __name__ == \"__main__\":\n",
        "    n = int(input())\n",
        "    p_max = -1\n",
        "    s_max = -1\n",
        "    for i in input().split():\n",
        "        x = int(i)\n",
        "        if(x > p_max):\n",
        "            s_max = p_max\n",
        "            p_max = x\n",
        "        elif x > s_max:\n",
        "            s_max = x\n",
        "    print(p_max * s_max)"
      ]
    },
    {
      "cell_type": "markdown",
      "metadata": {
        "id": "K08Eow0hPxcJ"
      },
      "source": [
        "Test with inputs 1 and 2\n",
        "\n",
        "\n"
      ]
    },
    {
      "cell_type": "code",
      "execution_count": null,
      "metadata": {
        "id": "1_mUee2cPxcJ"
      },
      "outputs": [],
      "source": [
        "!python max_pairwise_product_gef_py.py < input1.txt\n",
        "!python max_pairwise_product_gef_py.py < input2.txt"
      ]
    },
    {
      "cell_type": "markdown",
      "metadata": {
        "id": "CE5DB3CmPxcJ"
      },
      "source": [
        "Test and time it with input 3"
      ]
    },
    {
      "cell_type": "code",
      "execution_count": null,
      "metadata": {
        "id": "lyLhFOoePxcJ"
      },
      "outputs": [],
      "source": [
        "%%time\n",
        "!python max_pairwise_product_gef_py.py < input3.txt"
      ]
    },
    {
      "cell_type": "code",
      "source": [
        "%%time\n",
        "!python max_pairwise_product_gef_py.py < input11.txt"
      ],
      "metadata": {
        "id": "y5W3hHvEitoF"
      },
      "execution_count": null,
      "outputs": []
    },
    {
      "cell_type": "markdown",
      "metadata": {
        "id": "HZEI236lPxcK"
      },
      "source": [
        "20 stress tests"
      ]
    },
    {
      "cell_type": "code",
      "execution_count": null,
      "metadata": {
        "id": "_LoV-p4zPxcK"
      },
      "outputs": [],
      "source": [
        "%%writefile stress_tests_gef_py.py\n",
        "import random\n",
        "#Python3\n",
        "if __name__ == \"__main__\":\n",
        "    for i in range(20):\n",
        "        n = random.randint(2, 99)\n",
        "        p_max = -1\n",
        "        s_max = -1\n",
        "        for x in range(n):\n",
        "            i = random.randint(19, 133700)\n",
        "            if(i > p_max):\n",
        "                s_max = p_max\n",
        "                p_max = i\n",
        "            elif x > s_max:\n",
        "                s_max = x\n",
        "        max_product_super_ef =p_max * s_max\n",
        "        print(f\"n: {n} Product: {p_max * s_max}\")"
      ]
    },
    {
      "cell_type": "code",
      "source": [
        "%%writefile 100_automated_tests_.py\n",
        "import random\n",
        "#Python3\n",
        "if __name__ == \"__main__\":\n",
        "    #100 casos de prueba\n",
        "    for i in range(100):\n",
        "        # tamaño lista\n",
        "        n = random.randint(2, 1000)\n",
        "        p_max = 0\n",
        "        s_max = 0\n",
        "        arr = []\n",
        "\n",
        "        for i in range(n):\n",
        "            x = random.randint(2, 1000)\n",
        "            arr.append(x)\n",
        "\n",
        "            if(x > p_max):\n",
        "                s_max = p_max\n",
        "                p_max = x\n",
        "            elif i > s_max:\n",
        "                s_max = i\n",
        "\n",
        "        arr.sort()\n",
        "        max_product_super_ef =p_max * s_max\n",
        "        #print(f\"n: {n} Product: {p_max * s_max}\")"
      ],
      "metadata": {
        "id": "-SHi2fXNZl6x"
      },
      "execution_count": null,
      "outputs": []
    },
    {
      "cell_type": "code",
      "source": [
        "!python stress_tests_gef_py.py"
      ],
      "metadata": {
        "id": "Gsq8-CpokPfv"
      },
      "execution_count": null,
      "outputs": []
    },
    {
      "cell_type": "markdown",
      "metadata": {
        "id": "IRVdP3iuPxcK"
      },
      "source": [
        "Count executed instructions in code and verify with inputs 1,2 and 3"
      ]
    },
    {
      "cell_type": "code",
      "execution_count": null,
      "metadata": {
        "id": "RghJOg78PxcK"
      },
      "outputs": [],
      "source": [
        "%%writefile max_pairwise_product_gef_ins_py.py\n",
        "import random\n",
        "#Python3\n",
        "if __name__ == \"__main__\":\n",
        "        ins = 0\n",
        "        n = int(input())                 #1\n",
        "        ins += 1\n",
        "        p_max = -1                       #1\n",
        "        ins += 1\n",
        "        s_max = -1                       #1\n",
        "        ins += 1\n",
        "        ins += 1\n",
        "        for i in input().split():        #1 + 3n (n reads, 2n comparisons unitl end of input)\n",
        "            ins += 2\n",
        "            i = int(i)                   #n\n",
        "            ins += 1\n",
        "            ins += 2\n",
        "            if(i > p_max):               #[0, n]\n",
        "                s_max = p_max            #[0, n]\n",
        "                ins += 1\n",
        "                p_max = i                #[0, n]\n",
        "                ins += 1\n",
        "            elif i > s_max:              #[0, n]\n",
        "                s_max = i                #[0, n]\n",
        "                ins += 1\n",
        "        print(p_max * s_max)             #2\n",
        "        print(f\"Executed instructions: {ins}\") #->6 + 4n + 5[0, n] -> 6 + 9n worst case"
      ]
    },
    {
      "cell_type": "code",
      "source": [
        "!python max_pairwise_product_gef_ins_py.py < input1.txt\n",
        "!python max_pairwise_product_gef_ins_py.py < input2.txt\n",
        "!python max_pairwise_product_gef_ins_py.py < input3.txt"
      ],
      "metadata": {
        "id": "jgv2FaIVmqe9"
      },
      "execution_count": null,
      "outputs": []
    },
    {
      "cell_type": "code",
      "source": [
        "%%time\n",
        "!python max_pairwise_product_gef_ins_py.py < input11.txt"
      ],
      "metadata": {
        "id": "lfLeWiHXm3ri"
      },
      "execution_count": null,
      "outputs": []
    },
    {
      "cell_type": "markdown",
      "metadata": {
        "id": "R6qeUjPaPxcK"
      },
      "source": [
        "Calculate estimated time by instruction and number of instructions by second"
      ]
    },
    {
      "cell_type": "code",
      "execution_count": null,
      "metadata": {
        "id": "iLdXYvn3PxcK"
      },
      "outputs": [],
      "source": [
        "estimated_time = 0.0066 / 1400004\n",
        "number_of_ins_per_second = 1 / estimated_time\n",
        "print(estimated_time)\n",
        "print(number_of_ins_per_second)"
      ]
    },
    {
      "cell_type": "markdown",
      "source": [
        "###Correctness tests"
      ],
      "metadata": {
        "id": "7FzwL22_-q8u"
      }
    },
    {
      "cell_type": "code",
      "source": [
        "%%writefile stress_test.sh\n",
        "#!/bin/bash\n",
        "g++ max_pairwise_product_gef_cpp.cpp -o max_pairwise_product_gef_cpp\n",
        "\n",
        "for i in {0..10}\n",
        "do\n",
        "    ./max_pairwise_product_gef_cpp < input$i.txt > ctest$i.txt\n",
        "    grep -xvFf output$i.txt ctest$i.txt\n",
        "done"
      ],
      "metadata": {
        "id": "zKkwLl5U-uOt"
      },
      "execution_count": null,
      "outputs": []
    },
    {
      "cell_type": "code",
      "source": [
        "!./stress_test.sh"
      ],
      "metadata": {
        "id": "sBjCuICn--o9"
      },
      "execution_count": null,
      "outputs": []
    },
    {
      "cell_type": "code",
      "source": [
        "%%writefile stress_test.sh\n",
        "#!/bin/bash\n",
        "\n",
        "for i in {0..10}\n",
        "do\n",
        "    python3 max_pairwise_product_gef_py.py < input$i.txt > ptest$i.txt\n",
        "    grep -xvFf output$i.txt ptest$i.txt\n",
        "done"
      ],
      "metadata": {
        "id": "nQKfS5-d_IBz"
      },
      "execution_count": null,
      "outputs": []
    },
    {
      "cell_type": "code",
      "source": [
        "!./stress_test.sh"
      ],
      "metadata": {
        "id": "ba9Qt8TZ_U5-"
      },
      "execution_count": null,
      "outputs": []
    },
    {
      "cell_type": "markdown",
      "source": [
        "###Estimated maximum that can be solved in 1 second\n",
        "$$(6 + 9n)*1.47*10^{-9} = 1s$$\n",
        "$$ n \\approx 75'000.000 $$"
      ],
      "metadata": {
        "id": "wQPdvc8u6g2V"
      }
    },
    {
      "cell_type": "code",
      "source": [
        "# Verify input13.txt\n",
        "%%writefile WriteTest.cpp\n",
        "\n",
        "#include <iostream>\n",
        "#include <fstream>\n",
        "#include <cstdlib>\n",
        "\n",
        "using namespace std;\n",
        "\n",
        "int main() {\n",
        "  // Create and open a text file\n",
        "  ofstream MyFile(\"input15.txt\");\n",
        "\n",
        " MyFile << 75000000 <<\"\\n\";  // n\n",
        " for (int i=1; i <75000001; i++){\n",
        "     MyFile << i <<\" \";\n",
        " }\n",
        "\n",
        "  // Close the file\n",
        "  MyFile.close();\n",
        "}"
      ],
      "metadata": {
        "id": "3IE7tCoc65r6"
      },
      "execution_count": null,
      "outputs": []
    },
    {
      "cell_type": "code",
      "source": [
        "!g++ WriteTest.cpp -o WriteTest"
      ],
      "metadata": {
        "id": "1QNunsY98N9j"
      },
      "execution_count": null,
      "outputs": []
    },
    {
      "cell_type": "code",
      "source": [
        "!./WriteTest"
      ],
      "metadata": {
        "id": "87UlBxvo8Tm6"
      },
      "execution_count": null,
      "outputs": []
    },
    {
      "cell_type": "code",
      "source": [
        "!g++ max_pairwise_product_gef_cpp.cpp -o max_pairwise_product_gef_cpp\n",
        "!time ./max_pairwise_product_gef_cpp < input15.txt #The theoretical max in 1 sec is 75M. The constants are larger in practice."
      ],
      "metadata": {
        "id": "hVqzJVfK8afP"
      },
      "execution_count": null,
      "outputs": []
    },
    {
      "cell_type": "code",
      "source": [
        "%%writefile WriteTestPython.py\n",
        "#Python3\n",
        "if __name__ == \"__main__\":\n",
        "    with open(\"input14.txt\", \"w\") as f:\n",
        "        f.write(\"75000000\\n\")\n",
        "        for i in range(1, 75000001):\n",
        "            f.write(f\"{i} \")"
      ],
      "metadata": {
        "id": "1h_QVi0D9OJN"
      },
      "execution_count": null,
      "outputs": []
    },
    {
      "cell_type": "code",
      "source": [
        "!python WriteTestPython.py"
      ],
      "metadata": {
        "id": "WNtJhv8y9fgO"
      },
      "execution_count": null,
      "outputs": []
    },
    {
      "cell_type": "code",
      "source": [
        "%%time\n",
        "!python max_pairwise_product_gef_py.py < input14.txt #Again, the theoretical holds. The constans are larger in practice."
      ],
      "metadata": {
        "id": "o5urK2uy9rpn"
      },
      "execution_count": null,
      "outputs": []
    },
    {
      "cell_type": "markdown",
      "source": [
        "## Perform 100 randomized automated tests in C++ and Python between the super efficient solution $(T(n) < 10 n = O(n))$ against the sorting solution  $(T(n)  = O(n ln g))$."
      ],
      "metadata": {
        "id": "h5fntOp9vr7x"
      }
    },
    {
      "cell_type": "markdown",
      "source": [
        "100 stress tests python\n"
      ],
      "metadata": {
        "id": "NKf9CUGzJzA_"
      }
    },
    {
      "cell_type": "code",
      "source": [
        "%%writefile _100_automated_tests.py\n",
        "#Python3\n",
        "import random\n",
        "if __name__ == \"__main__\":\n",
        "    for i in range(100):\n",
        "        n = random.randint(2, 10001)\n",
        "        p_max = 0\n",
        "        s_max = 0\n",
        "        arr = []\n",
        "\n",
        "        for j in range(n):\n",
        "          x = random.randint(2, 10001)\n",
        "          arr.append(x)\n",
        "\n",
        "          if(x > p_max):\n",
        "            s_max = p_max\n",
        "            p_max = x\n",
        "          elif x > s_max:\n",
        "            s_max = x\n",
        "\n",
        "        arr.sort()\n",
        "        max_product_sort = arr[-1] * arr[-2]\n",
        "        max_product_super_efficient = p_max * s_max\n",
        "\n",
        "        if max_product_sort != max_product_super_efficient:\n",
        "          print(\"ERROR\")\n",
        "          print(f\"Test: {i + 1}, n: {n} \")\n",
        "          print(f\"max_product_sort: {max_product_sort}\")\n",
        "          print(f\"max_product_super_efficient: {max_product_super_efficient}\")\n",
        "          print(f\"lista: {arr}\")\n",
        "\n",
        "          exit()\n",
        "\n",
        "    print(\"PASS\")"
      ],
      "metadata": {
        "id": "0of-hp0XKlBt"
      },
      "execution_count": null,
      "outputs": []
    },
    {
      "cell_type": "code",
      "source": [
        "!python _100_automated_tests.py"
      ],
      "metadata": {
        "id": "twwu0Js3Z3zL"
      },
      "execution_count": null,
      "outputs": []
    },
    {
      "cell_type": "markdown",
      "source": [
        "100 stress tests algoritmos en c++\n",
        "\n",
        "\n"
      ],
      "metadata": {
        "id": "z9Rqih7dMkN1"
      }
    },
    {
      "cell_type": "code",
      "source": [
        "%%writefile _100_automated_tests_.cpp\n",
        "#include <iostream>\n",
        "#include <vector>\n",
        "#include <algorithm>\n",
        "\n",
        "int main(int argc, char* argv[]){\n",
        "\n",
        "\n",
        "    // 100 casos de prueba\n",
        "    for(int i = 0; i < 100; i++){\n",
        "\n",
        "        //declaracion de var. para guardar el primer y segundo mas grande\n",
        "        int p_max = 0;\n",
        "        int s_max = 0;\n",
        "\n",
        "        /* para el algoritmo O(nlgn)\n",
        "         generamos un valor n aleatorio para el tamaño de la lista\n",
        "         n varia entre 2 - 10001 */\n",
        "        int n = rand() % 10000 + 2;\n",
        "\n",
        "        /* para el algo. O(nlgn)  declaramos el arreglo de tamaño n */\n",
        "        std::vector<int64_t> v(n);\n",
        "\n",
        "\n",
        "        for(int j = 0; j < n; j++){\n",
        "            /* para el algo. O(nlgn) llenamos el arreglo con n valores aleatorios\n",
        "             * entre 2 - 10001 */\n",
        "            int x = rand() % 10000 + 2;\n",
        "            v[j] = x;\n",
        "\n",
        "            /*para el algo. O(n) comparamos el valor x generado con p_max s_max*/\n",
        "            if(x > p_max){\n",
        "                s_max = p_max;\n",
        "                p_max = x;\n",
        "            }\n",
        "            else if(x > s_max){\n",
        "                s_max = x;\n",
        "            }\n",
        "        }\n",
        "        //ordenamos el arreglo\n",
        "        std::sort(v.begin(), v.end());\n",
        "        // calculamos los productos obtenidos\n",
        "        long long max_product_sort = v[n - 1] * v[n - 2];\n",
        "        long long max_product_super_ef = p_max * s_max;\n",
        "\n",
        "        // comparacion de resultados\n",
        "        if (max_product_sort != max_product_super_ef){\n",
        "            // error\n",
        "            std::cout << \"ERROR \"<< '\\n';\n",
        "            std::cout << \"Test: \" << i + 1 << \" n: \" << n << '\\n';\n",
        "            std::cout << \"max_product_super_ef: \" << (long long) max_product_super_ef << '\\n';\n",
        "            std::cout << \"max_product_sort: \" << (long long) max_product_sort << '\\n';\n",
        "\n",
        "            return 0;\n",
        "\n",
        "        }\n",
        "    }\n",
        "    std::cout << \"PASS \"<< '\\n';\n",
        "    return 0;\n",
        "}"
      ],
      "metadata": {
        "id": "41_Z834LMsKs"
      },
      "execution_count": null,
      "outputs": []
    },
    {
      "cell_type": "code",
      "source": [
        "!g++ _100_automated_tests_.cpp -o _100_automated_tests_\n",
        "!./_100_automated_tests_"
      ],
      "metadata": {
        "id": "Fom9FLjyZ-yo"
      },
      "execution_count": null,
      "outputs": []
    }
  ],
  "metadata": {
    "colab": {
      "provenance": []
    },
    "kernelspec": {
      "display_name": "Python 3",
      "name": "python3"
    },
    "language_info": {
      "name": "python"
    }
  },
  "nbformat": 4,
  "nbformat_minor": 0
}